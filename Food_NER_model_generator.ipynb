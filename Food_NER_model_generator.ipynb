{
 "cells": [
  {
   "cell_type": "markdown",
   "metadata": {},
   "source": [
    "### NOTE : The model you'll generate using this code and base data (foodcsv.xlsx) is already in this repo in folder FoodNER. You can use that directly in FoodItemRating Notebook. "
   ]
  },
  {
   "cell_type": "markdown",
   "metadata": {},
   "source": [
    "You can use this notebook if you have extracted more labelled data for custom NER to make the custom NER model better"
   ]
  },
  {
   "cell_type": "code",
   "execution_count": 3,
   "metadata": {
    "collapsed": true
   },
   "outputs": [],
   "source": [
    "from __future__ import unicode_literals,print_function\n",
    "import pandas as pd\n",
    "import plac\n",
    "import random\n",
    "from pathlib import Path\n",
    "import spacy\n",
    "from tqdm import tqdm\n",
    "\n",
    "class TrainFoodNER():\n",
    "    \n",
    "    def __init__(self, df_path):\n",
    "        self.df_path = df_path\n",
    "        \n",
    "    def generate_train_from_df(self):\n",
    "        \"\"\"This function generates the Train data in the format accepted by spacy from our csv file for training\n",
    "           custom NER model and returns the training data variable created thereafter\"\"\"\n",
    "        df = pd.read_excel(self.df_path)\n",
    "        train = []\n",
    "        gone = set()\n",
    "        for index, value in df.iterrows():\n",
    "            if index in gone:\n",
    "                continue\n",
    "            group = tuple()\n",
    "            di = dict()\n",
    "            li = []\n",
    "            data = tuple()\n",
    "            if pd.notnull(value['Start']) and pd.notnull(value['End']):\n",
    "                data = data + (int(value['Start']),int(value['End']),value['Tag'].upper())\n",
    "                li.append(data)\n",
    "            c = index\n",
    "            if ((c+1==df.shape[0])):\n",
    "                break\n",
    "            while(df.loc[c+1,'Review']==df.loc[index,'Review'] ):\n",
    "                gone.add(c+1)\n",
    "                data = tuple()\n",
    "                if pd.notnull(df.loc[c+1,'Start']) and pd.notnull(df.loc[c+1,'End']):\n",
    "                    data = data + (int(df.loc[c+1,'Start']),int(df.loc[c+1,'End']),df.loc[c+1,'Tag'].upper())\n",
    "                    li.append(data)\n",
    "                c = c+1\n",
    "                if ((c+1==df.shape[0])):\n",
    "                    break\n",
    "            di['entities'] = li\n",
    "            group = group + (value['Review'],di)\n",
    "            train.append(group)\n",
    "        return train\n",
    "\n",
    "    def train_ner(self, output_dr):\n",
    "        \"\"\"This function trains the ner model and saves the model in directory provided as parameter to function\"\"\"\n",
    "        \"\"\"Parameters:\n",
    "           output_dr -> Path where you want the model to be saved, must be string (Ex. '/users/xyz/desktop')\n",
    "           \"\"\"\n",
    "        model = None\n",
    "        output_dir=Path(output_dr)\n",
    "        n_iter=100\n",
    "        if model is not None:\n",
    "            nlp = spacy.load(model)  # load existing spaCy model\n",
    "            print(\"Loaded model '%s'\" % model)\n",
    "        else:\n",
    "            nlp = spacy.blank('en')  # create blank Language class\n",
    "            print(\"Created blank 'en' model\")\n",
    "\n",
    "        if 'ner' not in nlp.pipe_names:\n",
    "            ner = nlp.create_pipe('ner')\n",
    "            nlp.add_pipe(ner, last=True)\n",
    "        # otherwise, get it so we can add labels\n",
    "        else:\n",
    "            ner = nlp.get_pipe('ner')\n",
    "\n",
    "        # add labels\n",
    "        TRAIN_DATA = self.generate_train_from_df()\n",
    "        for _, annotations in TRAIN_DATA:\n",
    "            for ent in annotations.get('entities'):\n",
    "                ner.add_label(ent[2])\n",
    "\n",
    "        other_pipes = [pipe for pipe in nlp.pipe_names if pipe != 'ner']\n",
    "        with nlp.disable_pipes(*other_pipes):  # only train NER\n",
    "            optimizer = nlp.begin_training()\n",
    "            for itn in range(n_iter):\n",
    "                random.shuffle(TRAIN_DATA)\n",
    "                losses = {}\n",
    "                print(itn)\n",
    "                for text, annotations in tqdm(TRAIN_DATA):\n",
    "                    nlp.update(\n",
    "                        [text],  # batch of texts\n",
    "                        [annotations],  # batch of annotations\n",
    "                        drop=0.35,  # dropout - make it harder to memorise data\n",
    "                        sgd=optimizer,  # callable to update weights\n",
    "                        losses=losses)\n",
    "                print(losses)\n",
    "                if n_iter%10==0:\n",
    "                    if output_dir is not None:\n",
    "                        output_dir = Path(output_dir)\n",
    "                        if not output_dir.exists():\n",
    "                            output_dir.mkdir()\n",
    "                        nlp.to_disk(output_dir)\n",
    "                        print(\"Saved model to\", output_dir)\n",
    "\n",
    "        if output_dir is not None:\n",
    "            output_dir = Path(output_dir)\n",
    "            if not output_dir.exists():\n",
    "                output_dir.mkdir()\n",
    "            nlp.to_disk(output_dir)\n",
    "            print(\"Saved model to\", output_dir)\n",
    "            \n",
    "def generate_food_model(df_path,output_dir):\n",
    "    \"\"\"This function is the only one needed to be called to be called to generate FOOD NER model\"\"\"\n",
    "    \"\"\"Parameters:\n",
    "       df_path : Path of excel file containing training data\n",
    "       output_dir : Directory where you want the model to be saved (must be string, example : '/Users/XYZ/desktop')\"\"\"\n",
    "    obj = TrainFoodNER(df_path = df_path)\n",
    "    obj.train_ner(output_dir)"
   ]
  },
  {
   "cell_type": "code",
   "execution_count": null,
   "metadata": {},
   "outputs": [
    {
     "name": "stdout",
     "output_type": "stream",
     "text": [
      "Created blank 'en' model\n",
      "Warning: Unnamed vectors -- this won't allow multiple vectors models to be loaded. (Shape: (0, 0))\n"
     ]
    },
    {
     "name": "stderr",
     "output_type": "stream",
     "text": [
      "  0%|          | 0/316 [00:00<?, ?it/s]/Applications/anaconda3/lib/python3.6/site-packages/numpy/linalg/linalg.py:2257: RuntimeWarning: invalid value encountered in sqrt\n",
      "  ret = sqrt(sqnorm)\n",
      "  0%|          | 1/316 [00:00<00:55,  5.68it/s]"
     ]
    },
    {
     "name": "stdout",
     "output_type": "stream",
     "text": [
      "0\n"
     ]
    },
    {
     "name": "stderr",
     "output_type": "stream",
     "text": [
      "100%|██████████| 316/316 [00:24<00:00, 12.67it/s]\n",
      "  0%|          | 0/316 [00:00<?, ?it/s]"
     ]
    },
    {
     "name": "stdout",
     "output_type": "stream",
     "text": [
      "{'ner': 949.6090647514052}\n",
      "Saved model to /Users/rishabh/Desktop/ProjectZomato\n",
      "1\n"
     ]
    },
    {
     "name": "stderr",
     "output_type": "stream",
     "text": [
      "100%|██████████| 316/316 [00:28<00:00, 10.91it/s]\n",
      "  0%|          | 0/316 [00:00<?, ?it/s]"
     ]
    },
    {
     "name": "stdout",
     "output_type": "stream",
     "text": [
      "{'ner': 597.3407825068917}\n",
      "Saved model to /Users/rishabh/Desktop/ProjectZomato\n",
      "2\n"
     ]
    },
    {
     "name": "stderr",
     "output_type": "stream",
     "text": [
      "100%|██████████| 316/316 [00:35<00:00,  8.93it/s]\n",
      "  0%|          | 0/316 [00:00<?, ?it/s]"
     ]
    },
    {
     "name": "stdout",
     "output_type": "stream",
     "text": [
      "{'ner': 400.19621750091596}\n",
      "Saved model to /Users/rishabh/Desktop/ProjectZomato\n",
      "3\n"
     ]
    },
    {
     "name": "stderr",
     "output_type": "stream",
     "text": [
      "100%|██████████| 316/316 [00:33<00:00,  9.36it/s]\n",
      "  0%|          | 0/316 [00:00<?, ?it/s]"
     ]
    },
    {
     "name": "stdout",
     "output_type": "stream",
     "text": [
      "{'ner': 319.493185696899}\n",
      "Saved model to /Users/rishabh/Desktop/ProjectZomato\n",
      "4\n"
     ]
    },
    {
     "name": "stderr",
     "output_type": "stream",
     "text": [
      "100%|██████████| 316/316 [00:45<00:00,  6.94it/s]\n",
      "  0%|          | 0/316 [00:00<?, ?it/s]"
     ]
    },
    {
     "name": "stdout",
     "output_type": "stream",
     "text": [
      "{'ner': 269.2614459972231}\n",
      "Saved model to /Users/rishabh/Desktop/ProjectZomato\n",
      "5\n"
     ]
    },
    {
     "name": "stderr",
     "output_type": "stream",
     "text": [
      "100%|██████████| 316/316 [01:23<00:00,  3.79it/s]\n",
      "  0%|          | 0/316 [00:00<?, ?it/s]"
     ]
    },
    {
     "name": "stdout",
     "output_type": "stream",
     "text": [
      "{'ner': 175.10473614891794}\n",
      "Saved model to /Users/rishabh/Desktop/ProjectZomato\n",
      "6\n"
     ]
    },
    {
     "name": "stderr",
     "output_type": "stream",
     "text": [
      "100%|██████████| 316/316 [01:22<00:00,  3.85it/s]\n",
      "  0%|          | 0/316 [00:00<?, ?it/s]"
     ]
    },
    {
     "name": "stdout",
     "output_type": "stream",
     "text": [
      "{'ner': 106.38820772487973}\n",
      "Saved model to /Users/rishabh/Desktop/ProjectZomato\n",
      "7\n"
     ]
    },
    {
     "name": "stderr",
     "output_type": "stream",
     "text": [
      "100%|██████████| 316/316 [01:21<00:00,  3.86it/s]\n",
      "  0%|          | 0/316 [00:00<?, ?it/s]"
     ]
    },
    {
     "name": "stdout",
     "output_type": "stream",
     "text": [
      "{'ner': 122.7609213058447}\n",
      "Saved model to /Users/rishabh/Desktop/ProjectZomato\n",
      "8\n"
     ]
    },
    {
     "name": "stderr",
     "output_type": "stream",
     "text": [
      "100%|██████████| 316/316 [01:22<00:00,  3.85it/s]\n",
      "  0%|          | 0/316 [00:00<?, ?it/s]"
     ]
    },
    {
     "name": "stdout",
     "output_type": "stream",
     "text": [
      "{'ner': 129.6804714860032}\n",
      "Saved model to /Users/rishabh/Desktop/ProjectZomato\n",
      "9\n"
     ]
    },
    {
     "name": "stderr",
     "output_type": "stream",
     "text": [
      "100%|██████████| 316/316 [01:19<00:00,  3.99it/s]\n",
      "  0%|          | 0/316 [00:00<?, ?it/s]"
     ]
    },
    {
     "name": "stdout",
     "output_type": "stream",
     "text": [
      "{'ner': 118.99109619411229}\n",
      "Saved model to /Users/rishabh/Desktop/ProjectZomato\n",
      "10\n"
     ]
    },
    {
     "name": "stderr",
     "output_type": "stream",
     "text": [
      "100%|██████████| 316/316 [01:19<00:00,  3.98it/s]\n",
      "  0%|          | 0/316 [00:00<?, ?it/s]"
     ]
    },
    {
     "name": "stdout",
     "output_type": "stream",
     "text": [
      "{'ner': 99.11831978045682}\n",
      "Saved model to /Users/rishabh/Desktop/ProjectZomato\n",
      "11\n"
     ]
    },
    {
     "name": "stderr",
     "output_type": "stream",
     "text": [
      "100%|██████████| 316/316 [01:18<00:00,  4.02it/s]\n",
      "  0%|          | 0/316 [00:00<?, ?it/s]"
     ]
    },
    {
     "name": "stdout",
     "output_type": "stream",
     "text": [
      "{'ner': 139.67257082049466}\n",
      "Saved model to /Users/rishabh/Desktop/ProjectZomato\n",
      "12\n"
     ]
    },
    {
     "name": "stderr",
     "output_type": "stream",
     "text": [
      "100%|██████████| 316/316 [01:18<00:00,  4.00it/s]\n",
      "  0%|          | 0/316 [00:00<?, ?it/s]"
     ]
    },
    {
     "name": "stdout",
     "output_type": "stream",
     "text": [
      "{'ner': 114.85274772205406}\n",
      "Saved model to /Users/rishabh/Desktop/ProjectZomato\n",
      "13\n"
     ]
    },
    {
     "name": "stderr",
     "output_type": "stream",
     "text": [
      "100%|██████████| 316/316 [01:18<00:00,  4.01it/s]\n",
      "  0%|          | 0/316 [00:00<?, ?it/s]"
     ]
    },
    {
     "name": "stdout",
     "output_type": "stream",
     "text": [
      "{'ner': 112.53360010522957}\n",
      "Saved model to /Users/rishabh/Desktop/ProjectZomato\n",
      "14\n"
     ]
    },
    {
     "name": "stderr",
     "output_type": "stream",
     "text": [
      "100%|██████████| 316/316 [01:18<00:00,  4.02it/s]\n",
      "  0%|          | 0/316 [00:00<?, ?it/s]"
     ]
    },
    {
     "name": "stdout",
     "output_type": "stream",
     "text": [
      "{'ner': 128.39648306312432}\n",
      "Saved model to /Users/rishabh/Desktop/ProjectZomato\n",
      "15\n"
     ]
    },
    {
     "name": "stderr",
     "output_type": "stream",
     "text": [
      "100%|██████████| 316/316 [01:18<00:00,  4.02it/s]\n",
      "  0%|          | 0/316 [00:00<?, ?it/s]"
     ]
    },
    {
     "name": "stdout",
     "output_type": "stream",
     "text": [
      "{'ner': 103.6077574411466}\n",
      "Saved model to /Users/rishabh/Desktop/ProjectZomato\n",
      "16\n"
     ]
    },
    {
     "name": "stderr",
     "output_type": "stream",
     "text": [
      "100%|██████████| 316/316 [01:18<00:00,  4.00it/s]\n",
      "  0%|          | 0/316 [00:00<?, ?it/s]"
     ]
    },
    {
     "name": "stdout",
     "output_type": "stream",
     "text": [
      "{'ner': 71.3498640418115}\n",
      "Saved model to /Users/rishabh/Desktop/ProjectZomato\n",
      "17\n"
     ]
    },
    {
     "name": "stderr",
     "output_type": "stream",
     "text": [
      "100%|██████████| 316/316 [01:18<00:00,  4.00it/s]\n",
      "  0%|          | 0/316 [00:00<?, ?it/s]"
     ]
    },
    {
     "name": "stdout",
     "output_type": "stream",
     "text": [
      "{'ner': 60.085499893582224}\n",
      "Saved model to /Users/rishabh/Desktop/ProjectZomato\n",
      "18\n"
     ]
    },
    {
     "name": "stderr",
     "output_type": "stream",
     "text": [
      "100%|██████████| 316/316 [01:19<00:00,  3.99it/s]\n",
      "  0%|          | 0/316 [00:00<?, ?it/s]"
     ]
    },
    {
     "name": "stdout",
     "output_type": "stream",
     "text": [
      "{'ner': 114.03763593699506}\n",
      "Saved model to /Users/rishabh/Desktop/ProjectZomato\n",
      "19\n"
     ]
    },
    {
     "name": "stderr",
     "output_type": "stream",
     "text": [
      "100%|██████████| 316/316 [01:19<00:00,  3.99it/s]\n",
      "  0%|          | 0/316 [00:00<?, ?it/s]"
     ]
    },
    {
     "name": "stdout",
     "output_type": "stream",
     "text": [
      "{'ner': 100.87797078798249}\n",
      "Saved model to /Users/rishabh/Desktop/ProjectZomato\n",
      "20\n"
     ]
    },
    {
     "name": "stderr",
     "output_type": "stream",
     "text": [
      "100%|██████████| 316/316 [01:18<00:00,  4.00it/s]\n",
      "  0%|          | 0/316 [00:00<?, ?it/s]"
     ]
    },
    {
     "name": "stdout",
     "output_type": "stream",
     "text": [
      "{'ner': 74.00581001244953}\n",
      "Saved model to /Users/rishabh/Desktop/ProjectZomato\n",
      "21\n"
     ]
    },
    {
     "name": "stderr",
     "output_type": "stream",
     "text": [
      "100%|██████████| 316/316 [01:19<00:00,  3.99it/s]\n",
      "  0%|          | 0/316 [00:00<?, ?it/s]"
     ]
    },
    {
     "name": "stdout",
     "output_type": "stream",
     "text": [
      "{'ner': 69.14695466296023}\n",
      "Saved model to /Users/rishabh/Desktop/ProjectZomato\n",
      "22\n"
     ]
    },
    {
     "name": "stderr",
     "output_type": "stream",
     "text": [
      "100%|██████████| 316/316 [01:19<00:00,  4.00it/s]\n",
      "  0%|          | 0/316 [00:00<?, ?it/s]"
     ]
    },
    {
     "name": "stdout",
     "output_type": "stream",
     "text": [
      "{'ner': 84.59693892893418}\n",
      "Saved model to /Users/rishabh/Desktop/ProjectZomato\n",
      "23\n"
     ]
    },
    {
     "name": "stderr",
     "output_type": "stream",
     "text": [
      "100%|██████████| 316/316 [01:19<00:00,  3.99it/s]\n",
      "  0%|          | 0/316 [00:00<?, ?it/s]"
     ]
    },
    {
     "name": "stdout",
     "output_type": "stream",
     "text": [
      "{'ner': 70.70066428475565}\n",
      "Saved model to /Users/rishabh/Desktop/ProjectZomato\n",
      "24\n"
     ]
    },
    {
     "name": "stderr",
     "output_type": "stream",
     "text": [
      "100%|██████████| 316/316 [01:19<00:00,  3.99it/s]\n",
      "  0%|          | 0/316 [00:00<?, ?it/s]"
     ]
    },
    {
     "name": "stdout",
     "output_type": "stream",
     "text": [
      "{'ner': 110.66410517989887}\n",
      "Saved model to /Users/rishabh/Desktop/ProjectZomato\n",
      "25\n"
     ]
    },
    {
     "name": "stderr",
     "output_type": "stream",
     "text": [
      "100%|██████████| 316/316 [01:19<00:00,  3.98it/s]\n",
      "  0%|          | 0/316 [00:00<?, ?it/s]"
     ]
    },
    {
     "name": "stdout",
     "output_type": "stream",
     "text": [
      "{'ner': 80.89746779870431}\n",
      "Saved model to /Users/rishabh/Desktop/ProjectZomato\n",
      "26\n"
     ]
    },
    {
     "name": "stderr",
     "output_type": "stream",
     "text": [
      "100%|██████████| 316/316 [01:19<00:00,  4.00it/s]\n",
      "  0%|          | 0/316 [00:00<?, ?it/s]"
     ]
    },
    {
     "name": "stdout",
     "output_type": "stream",
     "text": [
      "{'ner': 95.61266740655049}\n",
      "Saved model to /Users/rishabh/Desktop/ProjectZomato\n",
      "27\n"
     ]
    },
    {
     "name": "stderr",
     "output_type": "stream",
     "text": [
      "100%|██████████| 316/316 [01:19<00:00,  4.00it/s]\n",
      "  0%|          | 0/316 [00:00<?, ?it/s]"
     ]
    },
    {
     "name": "stdout",
     "output_type": "stream",
     "text": [
      "{'ner': 56.777571783831}\n",
      "Saved model to /Users/rishabh/Desktop/ProjectZomato\n",
      "28\n"
     ]
    },
    {
     "name": "stderr",
     "output_type": "stream",
     "text": [
      "100%|██████████| 316/316 [01:18<00:00,  4.00it/s]\n",
      "  0%|          | 0/316 [00:00<?, ?it/s]"
     ]
    },
    {
     "name": "stdout",
     "output_type": "stream",
     "text": [
      "{'ner': 70.08030522733915}\n",
      "Saved model to /Users/rishabh/Desktop/ProjectZomato\n",
      "29\n"
     ]
    },
    {
     "name": "stderr",
     "output_type": "stream",
     "text": [
      "100%|██████████| 316/316 [01:19<00:00,  3.98it/s]\n",
      "  0%|          | 0/316 [00:00<?, ?it/s]"
     ]
    },
    {
     "name": "stdout",
     "output_type": "stream",
     "text": [
      "{'ner': 51.615746185409584}\n",
      "Saved model to /Users/rishabh/Desktop/ProjectZomato\n",
      "30\n"
     ]
    },
    {
     "name": "stderr",
     "output_type": "stream",
     "text": [
      "100%|██████████| 316/316 [01:19<00:00,  4.00it/s]\n",
      "  0%|          | 0/316 [00:00<?, ?it/s]"
     ]
    },
    {
     "name": "stdout",
     "output_type": "stream",
     "text": [
      "{'ner': 62.30030214084212}\n",
      "Saved model to /Users/rishabh/Desktop/ProjectZomato\n",
      "31\n"
     ]
    },
    {
     "name": "stderr",
     "output_type": "stream",
     "text": [
      "100%|██████████| 316/316 [01:19<00:00,  4.00it/s]\n",
      "  0%|          | 0/316 [00:00<?, ?it/s]"
     ]
    },
    {
     "name": "stdout",
     "output_type": "stream",
     "text": [
      "{'ner': 56.14033001245959}\n",
      "Saved model to /Users/rishabh/Desktop/ProjectZomato\n",
      "32\n"
     ]
    },
    {
     "name": "stderr",
     "output_type": "stream",
     "text": [
      "100%|██████████| 316/316 [01:19<00:00,  4.00it/s]\n",
      "  0%|          | 0/316 [00:00<?, ?it/s]"
     ]
    },
    {
     "name": "stdout",
     "output_type": "stream",
     "text": [
      "{'ner': 43.99995161591251}\n",
      "Saved model to /Users/rishabh/Desktop/ProjectZomato\n",
      "33\n"
     ]
    },
    {
     "name": "stderr",
     "output_type": "stream",
     "text": [
      "100%|██████████| 316/316 [01:19<00:00,  3.97it/s]\n",
      "  0%|          | 0/316 [00:00<?, ?it/s]"
     ]
    },
    {
     "name": "stdout",
     "output_type": "stream",
     "text": [
      "{'ner': 47.73168117415115}\n",
      "Saved model to /Users/rishabh/Desktop/ProjectZomato\n",
      "34\n"
     ]
    },
    {
     "name": "stderr",
     "output_type": "stream",
     "text": [
      "100%|██████████| 316/316 [01:19<00:00,  3.97it/s]\n",
      "  0%|          | 0/316 [00:00<?, ?it/s]"
     ]
    },
    {
     "name": "stdout",
     "output_type": "stream",
     "text": [
      "{'ner': 49.21666307440156}\n",
      "Saved model to /Users/rishabh/Desktop/ProjectZomato\n",
      "35\n"
     ]
    },
    {
     "name": "stderr",
     "output_type": "stream",
     "text": [
      "100%|██████████| 316/316 [01:19<00:00,  3.97it/s]\n",
      "  0%|          | 0/316 [00:00<?, ?it/s]"
     ]
    },
    {
     "name": "stdout",
     "output_type": "stream",
     "text": [
      "{'ner': 58.60152168550228}\n",
      "Saved model to /Users/rishabh/Desktop/ProjectZomato\n",
      "36\n"
     ]
    },
    {
     "name": "stderr",
     "output_type": "stream",
     "text": [
      "100%|██████████| 316/316 [01:19<00:00,  3.99it/s]\n",
      "  0%|          | 0/316 [00:00<?, ?it/s]"
     ]
    },
    {
     "name": "stdout",
     "output_type": "stream",
     "text": [
      "{'ner': 69.3839611690782}\n",
      "Saved model to /Users/rishabh/Desktop/ProjectZomato\n",
      "37\n"
     ]
    },
    {
     "name": "stderr",
     "output_type": "stream",
     "text": [
      "100%|██████████| 316/316 [01:19<00:00,  3.97it/s]\n",
      "  0%|          | 0/316 [00:00<?, ?it/s]"
     ]
    },
    {
     "name": "stdout",
     "output_type": "stream",
     "text": [
      "{'ner': 44.18079436816072}\n",
      "Saved model to /Users/rishabh/Desktop/ProjectZomato\n",
      "38\n"
     ]
    },
    {
     "name": "stderr",
     "output_type": "stream",
     "text": [
      "100%|██████████| 316/316 [43:20<00:00,  8.23s/it]   \n",
      "  0%|          | 0/316 [00:00<?, ?it/s]"
     ]
    },
    {
     "name": "stdout",
     "output_type": "stream",
     "text": [
      "{'ner': 37.56568052183313}\n",
      "Saved model to /Users/rishabh/Desktop/ProjectZomato\n",
      "39\n"
     ]
    },
    {
     "name": "stderr",
     "output_type": "stream",
     "text": [
      "100%|██████████| 316/316 [28:25<00:00,  5.40s/it]   \n",
      "  0%|          | 0/316 [00:00<?, ?it/s]"
     ]
    },
    {
     "name": "stdout",
     "output_type": "stream",
     "text": [
      "{'ner': 45.544527568708794}\n",
      "Saved model to /Users/rishabh/Desktop/ProjectZomato\n",
      "40\n"
     ]
    },
    {
     "name": "stderr",
     "output_type": "stream",
     "text": [
      "100%|██████████| 316/316 [01:23<00:00,  3.78it/s]\n",
      "  0%|          | 0/316 [00:00<?, ?it/s]"
     ]
    },
    {
     "name": "stdout",
     "output_type": "stream",
     "text": [
      "{'ner': 39.442914684171}\n",
      "Saved model to /Users/rishabh/Desktop/ProjectZomato\n",
      "41\n"
     ]
    },
    {
     "name": "stderr",
     "output_type": "stream",
     "text": [
      "100%|██████████| 316/316 [01:22<00:00,  3.83it/s]\n",
      "  0%|          | 0/316 [00:00<?, ?it/s]"
     ]
    },
    {
     "name": "stdout",
     "output_type": "stream",
     "text": [
      "{'ner': 52.39571330150808}\n",
      "Saved model to /Users/rishabh/Desktop/ProjectZomato\n",
      "42\n"
     ]
    },
    {
     "name": "stderr",
     "output_type": "stream",
     "text": [
      "100%|██████████| 316/316 [01:22<00:00,  3.82it/s]\n",
      "  0%|          | 0/316 [00:00<?, ?it/s]"
     ]
    },
    {
     "name": "stdout",
     "output_type": "stream",
     "text": [
      "{'ner': 56.60905537883906}\n",
      "Saved model to /Users/rishabh/Desktop/ProjectZomato\n",
      "43\n"
     ]
    },
    {
     "name": "stderr",
     "output_type": "stream",
     "text": [
      "100%|██████████| 316/316 [01:22<00:00,  3.83it/s]\n",
      "  0%|          | 0/316 [00:00<?, ?it/s]"
     ]
    },
    {
     "name": "stdout",
     "output_type": "stream",
     "text": [
      "{'ner': 35.59700479765862}\n",
      "Saved model to /Users/rishabh/Desktop/ProjectZomato\n",
      "44\n"
     ]
    },
    {
     "name": "stderr",
     "output_type": "stream",
     "text": [
      "100%|██████████| 316/316 [01:26<00:00,  3.64it/s]\n",
      "  0%|          | 0/316 [00:00<?, ?it/s]"
     ]
    },
    {
     "name": "stdout",
     "output_type": "stream",
     "text": [
      "{'ner': 45.31899827366481}\n",
      "Saved model to /Users/rishabh/Desktop/ProjectZomato\n",
      "45\n"
     ]
    },
    {
     "name": "stderr",
     "output_type": "stream",
     "text": [
      "100%|██████████| 316/316 [01:22<00:00,  3.83it/s]\n",
      "  0%|          | 0/316 [00:00<?, ?it/s]"
     ]
    },
    {
     "name": "stdout",
     "output_type": "stream",
     "text": [
      "{'ner': 38.942578666744595}\n",
      "Saved model to /Users/rishabh/Desktop/ProjectZomato\n",
      "46\n"
     ]
    },
    {
     "name": "stderr",
     "output_type": "stream",
     "text": [
      "100%|██████████| 316/316 [01:19<00:00,  3.97it/s]\n",
      "  0%|          | 0/316 [00:00<?, ?it/s]"
     ]
    },
    {
     "name": "stdout",
     "output_type": "stream",
     "text": [
      "{'ner': 17.664871377126467}\n",
      "Saved model to /Users/rishabh/Desktop/ProjectZomato\n",
      "47\n"
     ]
    },
    {
     "name": "stderr",
     "output_type": "stream",
     "text": [
      "100%|██████████| 316/316 [01:19<00:00,  3.96it/s]\n",
      "  0%|          | 0/316 [00:00<?, ?it/s]"
     ]
    },
    {
     "name": "stdout",
     "output_type": "stream",
     "text": [
      "{'ner': 41.766992638411296}\n",
      "Saved model to /Users/rishabh/Desktop/ProjectZomato\n",
      "48\n"
     ]
    },
    {
     "name": "stderr",
     "output_type": "stream",
     "text": [
      "100%|██████████| 316/316 [01:21<00:00,  3.85it/s]\n",
      "  0%|          | 0/316 [00:00<?, ?it/s]"
     ]
    },
    {
     "name": "stdout",
     "output_type": "stream",
     "text": [
      "{'ner': 57.25990131555286}\n",
      "Saved model to /Users/rishabh/Desktop/ProjectZomato\n",
      "49\n"
     ]
    },
    {
     "name": "stderr",
     "output_type": "stream",
     "text": [
      "100%|██████████| 316/316 [01:25<00:00,  3.70it/s]\n",
      "  0%|          | 0/316 [00:00<?, ?it/s]"
     ]
    },
    {
     "name": "stdout",
     "output_type": "stream",
     "text": [
      "{'ner': 33.507257504497474}\n",
      "Saved model to /Users/rishabh/Desktop/ProjectZomato\n",
      "50\n"
     ]
    },
    {
     "name": "stderr",
     "output_type": "stream",
     "text": [
      "100%|██████████| 316/316 [01:19<00:00,  4.00it/s]\n",
      "  0%|          | 0/316 [00:00<?, ?it/s]"
     ]
    },
    {
     "name": "stdout",
     "output_type": "stream",
     "text": [
      "{'ner': 21.691243101185556}\n",
      "Saved model to /Users/rishabh/Desktop/ProjectZomato\n",
      "51\n"
     ]
    },
    {
     "name": "stderr",
     "output_type": "stream",
     "text": [
      "100%|██████████| 316/316 [02:35<00:00,  2.04it/s]\n",
      "  0%|          | 0/316 [00:00<?, ?it/s]"
     ]
    },
    {
     "name": "stdout",
     "output_type": "stream",
     "text": [
      "{'ner': 28.139464272951454}\n",
      "Saved model to /Users/rishabh/Desktop/ProjectZomato\n",
      "52\n"
     ]
    },
    {
     "name": "stderr",
     "output_type": "stream",
     "text": [
      "100%|██████████| 316/316 [01:31<00:00,  3.44it/s]\n",
      "  0%|          | 0/316 [00:00<?, ?it/s]"
     ]
    },
    {
     "name": "stdout",
     "output_type": "stream",
     "text": [
      "{'ner': 34.55531734417773}\n",
      "Saved model to /Users/rishabh/Desktop/ProjectZomato\n",
      "53\n"
     ]
    },
    {
     "name": "stderr",
     "output_type": "stream",
     "text": [
      "100%|██████████| 316/316 [01:22<00:00,  3.82it/s]\n",
      "  0%|          | 0/316 [00:00<?, ?it/s]"
     ]
    },
    {
     "name": "stdout",
     "output_type": "stream",
     "text": [
      "{'ner': 17.44986670484648}\n",
      "Saved model to /Users/rishabh/Desktop/ProjectZomato\n",
      "54\n"
     ]
    },
    {
     "name": "stderr",
     "output_type": "stream",
     "text": [
      "100%|██████████| 316/316 [01:21<00:00,  3.86it/s]\n",
      "  0%|          | 0/316 [00:00<?, ?it/s]"
     ]
    },
    {
     "name": "stdout",
     "output_type": "stream",
     "text": [
      "{'ner': 15.773773676125472}\n",
      "Saved model to /Users/rishabh/Desktop/ProjectZomato\n",
      "55\n"
     ]
    },
    {
     "name": "stderr",
     "output_type": "stream",
     "text": [
      "100%|██████████| 316/316 [01:21<00:00,  3.89it/s]\n",
      "  0%|          | 0/316 [00:00<?, ?it/s]"
     ]
    },
    {
     "name": "stdout",
     "output_type": "stream",
     "text": [
      "{'ner': 16.811416364028272}\n",
      "Saved model to /Users/rishabh/Desktop/ProjectZomato\n",
      "56\n"
     ]
    },
    {
     "name": "stderr",
     "output_type": "stream",
     "text": [
      "100%|██████████| 316/316 [01:31<00:00,  3.44it/s]\n",
      "  0%|          | 0/316 [00:00<?, ?it/s]"
     ]
    },
    {
     "name": "stdout",
     "output_type": "stream",
     "text": [
      "{'ner': 29.45405853188348}\n",
      "Saved model to /Users/rishabh/Desktop/ProjectZomato\n",
      "57\n"
     ]
    },
    {
     "name": "stderr",
     "output_type": "stream",
     "text": [
      "100%|██████████| 316/316 [01:26<00:00,  3.64it/s]\n",
      "  0%|          | 0/316 [00:00<?, ?it/s]"
     ]
    },
    {
     "name": "stdout",
     "output_type": "stream",
     "text": [
      "{'ner': 37.08534667156425}\n",
      "Saved model to /Users/rishabh/Desktop/ProjectZomato\n",
      "58\n"
     ]
    },
    {
     "name": "stderr",
     "output_type": "stream",
     "text": [
      "100%|██████████| 316/316 [01:49<00:00,  2.89it/s]\n",
      "  0%|          | 0/316 [00:00<?, ?it/s]"
     ]
    },
    {
     "name": "stdout",
     "output_type": "stream",
     "text": [
      "{'ner': 45.37545682494408}\n",
      "Saved model to /Users/rishabh/Desktop/ProjectZomato\n",
      "59\n"
     ]
    },
    {
     "name": "stderr",
     "output_type": "stream",
     "text": [
      "100%|██████████| 316/316 [01:24<00:00,  3.74it/s]\n",
      "  0%|          | 0/316 [00:00<?, ?it/s]"
     ]
    },
    {
     "name": "stdout",
     "output_type": "stream",
     "text": [
      "{'ner': 42.569562614233575}\n",
      "Saved model to /Users/rishabh/Desktop/ProjectZomato\n",
      "60\n"
     ]
    },
    {
     "name": "stderr",
     "output_type": "stream",
     "text": [
      "100%|██████████| 316/316 [01:30<00:00,  3.51it/s]\n",
      "  0%|          | 0/316 [00:00<?, ?it/s]"
     ]
    },
    {
     "name": "stdout",
     "output_type": "stream",
     "text": [
      "{'ner': 41.066555131742525}\n",
      "Saved model to /Users/rishabh/Desktop/ProjectZomato\n",
      "61\n"
     ]
    },
    {
     "name": "stderr",
     "output_type": "stream",
     "text": [
      "100%|██████████| 316/316 [01:47<00:00,  2.94it/s]\n",
      "  0%|          | 0/316 [00:00<?, ?it/s]"
     ]
    },
    {
     "name": "stdout",
     "output_type": "stream",
     "text": [
      "{'ner': 18.179007187697845}\n",
      "Saved model to /Users/rishabh/Desktop/ProjectZomato\n",
      "62\n"
     ]
    },
    {
     "name": "stderr",
     "output_type": "stream",
     "text": [
      "100%|██████████| 316/316 [01:30<00:00,  3.51it/s]\n",
      "  0%|          | 0/316 [00:00<?, ?it/s]"
     ]
    },
    {
     "name": "stdout",
     "output_type": "stream",
     "text": [
      "{'ner': 29.440961600485355}\n",
      "Saved model to /Users/rishabh/Desktop/ProjectZomato\n",
      "63\n"
     ]
    },
    {
     "name": "stderr",
     "output_type": "stream",
     "text": [
      "100%|██████████| 316/316 [01:24<00:00,  3.75it/s]\n",
      "  0%|          | 0/316 [00:00<?, ?it/s]"
     ]
    },
    {
     "name": "stdout",
     "output_type": "stream",
     "text": [
      "{'ner': 36.25377514444109}\n",
      "Saved model to /Users/rishabh/Desktop/ProjectZomato\n",
      "64\n"
     ]
    },
    {
     "name": "stderr",
     "output_type": "stream",
     "text": [
      "100%|██████████| 316/316 [01:22<00:00,  3.84it/s]\n",
      "  0%|          | 0/316 [00:00<?, ?it/s]"
     ]
    },
    {
     "name": "stdout",
     "output_type": "stream",
     "text": [
      "{'ner': 30.693713040779247}\n",
      "Saved model to /Users/rishabh/Desktop/ProjectZomato\n",
      "65\n"
     ]
    },
    {
     "name": "stderr",
     "output_type": "stream",
     "text": [
      "100%|██████████| 316/316 [01:23<00:00,  3.76it/s]\n",
      "  0%|          | 0/316 [00:00<?, ?it/s]"
     ]
    },
    {
     "name": "stdout",
     "output_type": "stream",
     "text": [
      "{'ner': 8.916052424231822}\n",
      "Saved model to /Users/rishabh/Desktop/ProjectZomato\n",
      "66\n"
     ]
    },
    {
     "name": "stderr",
     "output_type": "stream",
     "text": [
      "100%|██████████| 316/316 [01:19<00:00,  3.97it/s]\n",
      "  0%|          | 0/316 [00:00<?, ?it/s]"
     ]
    },
    {
     "name": "stdout",
     "output_type": "stream",
     "text": [
      "{'ner': 54.635843603023304}\n",
      "Saved model to /Users/rishabh/Desktop/ProjectZomato\n",
      "67\n"
     ]
    },
    {
     "name": "stderr",
     "output_type": "stream",
     "text": [
      "100%|██████████| 316/316 [01:19<00:00,  3.95it/s]\n",
      "  0%|          | 0/316 [00:00<?, ?it/s]"
     ]
    },
    {
     "name": "stdout",
     "output_type": "stream",
     "text": [
      "{'ner': 19.922772502476782}\n",
      "Saved model to /Users/rishabh/Desktop/ProjectZomato\n",
      "68\n"
     ]
    },
    {
     "name": "stderr",
     "output_type": "stream",
     "text": [
      "100%|██████████| 316/316 [01:20<00:00,  3.92it/s]\n",
      "  0%|          | 0/316 [00:00<?, ?it/s]"
     ]
    },
    {
     "name": "stdout",
     "output_type": "stream",
     "text": [
      "{'ner': 23.32165541880214}\n",
      "Saved model to /Users/rishabh/Desktop/ProjectZomato\n",
      "69\n"
     ]
    },
    {
     "name": "stderr",
     "output_type": "stream",
     "text": [
      "100%|██████████| 316/316 [01:23<00:00,  3.80it/s]\n",
      "  0%|          | 0/316 [00:00<?, ?it/s]"
     ]
    },
    {
     "name": "stdout",
     "output_type": "stream",
     "text": [
      "{'ner': 55.59195332109655}\n",
      "Saved model to /Users/rishabh/Desktop/ProjectZomato\n",
      "70\n"
     ]
    },
    {
     "name": "stderr",
     "output_type": "stream",
     "text": [
      "100%|██████████| 316/316 [01:22<00:00,  3.81it/s]\n",
      "  0%|          | 0/316 [00:00<?, ?it/s]"
     ]
    },
    {
     "name": "stdout",
     "output_type": "stream",
     "text": [
      "{'ner': 28.73727503705179}\n",
      "Saved model to /Users/rishabh/Desktop/ProjectZomato\n",
      "71\n"
     ]
    },
    {
     "name": "stderr",
     "output_type": "stream",
     "text": [
      "100%|██████████| 316/316 [01:24<00:00,  3.74it/s]\n",
      "  0%|          | 0/316 [00:00<?, ?it/s]"
     ]
    },
    {
     "name": "stdout",
     "output_type": "stream",
     "text": [
      "{'ner': 38.88289358503635}\n",
      "Saved model to /Users/rishabh/Desktop/ProjectZomato\n",
      "72\n"
     ]
    },
    {
     "name": "stderr",
     "output_type": "stream",
     "text": [
      "100%|██████████| 316/316 [01:22<00:00,  3.82it/s]\n",
      "  0%|          | 0/316 [00:00<?, ?it/s]"
     ]
    },
    {
     "name": "stdout",
     "output_type": "stream",
     "text": [
      "{'ner': 10.52453076314381}\n",
      "Saved model to /Users/rishabh/Desktop/ProjectZomato\n",
      "73\n"
     ]
    },
    {
     "name": "stderr",
     "output_type": "stream",
     "text": [
      "100%|██████████| 316/316 [01:35<00:00,  3.31it/s]\n",
      "  0%|          | 0/316 [00:00<?, ?it/s]"
     ]
    },
    {
     "name": "stdout",
     "output_type": "stream",
     "text": [
      "{'ner': 9.156681433605582}\n",
      "Saved model to /Users/rishabh/Desktop/ProjectZomato\n",
      "74\n"
     ]
    },
    {
     "name": "stderr",
     "output_type": "stream",
     "text": [
      "100%|██████████| 316/316 [02:14<00:00,  2.35it/s]\n",
      "  0%|          | 0/316 [00:00<?, ?it/s]"
     ]
    },
    {
     "name": "stdout",
     "output_type": "stream",
     "text": [
      "{'ner': 17.69021366035576}\n",
      "Saved model to /Users/rishabh/Desktop/ProjectZomato\n",
      "75\n"
     ]
    },
    {
     "name": "stderr",
     "output_type": "stream",
     "text": [
      "100%|██████████| 316/316 [01:44<00:00,  3.03it/s]\n",
      "  0%|          | 0/316 [00:00<?, ?it/s]"
     ]
    },
    {
     "name": "stdout",
     "output_type": "stream",
     "text": [
      "{'ner': 18.67408517434166}\n",
      "Saved model to /Users/rishabh/Desktop/ProjectZomato\n",
      "76\n"
     ]
    },
    {
     "name": "stderr",
     "output_type": "stream",
     "text": [
      "100%|██████████| 316/316 [01:24<00:00,  3.76it/s]\n",
      "  0%|          | 0/316 [00:00<?, ?it/s]"
     ]
    },
    {
     "name": "stdout",
     "output_type": "stream",
     "text": [
      "{'ner': 42.318157773716244}\n",
      "Saved model to /Users/rishabh/Desktop/ProjectZomato\n",
      "77\n"
     ]
    },
    {
     "name": "stderr",
     "output_type": "stream",
     "text": [
      "100%|██████████| 316/316 [01:21<00:00,  3.88it/s]\n",
      "  0%|          | 0/316 [00:00<?, ?it/s]"
     ]
    },
    {
     "name": "stdout",
     "output_type": "stream",
     "text": [
      "{'ner': 24.935439814403075}\n",
      "Saved model to /Users/rishabh/Desktop/ProjectZomato\n",
      "78\n"
     ]
    },
    {
     "name": "stderr",
     "output_type": "stream",
     "text": [
      "100%|██████████| 316/316 [01:36<00:00,  3.28it/s]\n",
      "  0%|          | 0/316 [00:00<?, ?it/s]"
     ]
    },
    {
     "name": "stdout",
     "output_type": "stream",
     "text": [
      "{'ner': 16.42716622206311}\n",
      "Saved model to /Users/rishabh/Desktop/ProjectZomato\n",
      "79\n"
     ]
    },
    {
     "name": "stderr",
     "output_type": "stream",
     "text": [
      "100%|██████████| 316/316 [01:36<00:00,  3.29it/s]\n",
      "  0%|          | 0/316 [00:00<?, ?it/s]"
     ]
    },
    {
     "name": "stdout",
     "output_type": "stream",
     "text": [
      "{'ner': 32.70123484758959}\n",
      "Saved model to /Users/rishabh/Desktop/ProjectZomato\n",
      "80\n"
     ]
    },
    {
     "name": "stderr",
     "output_type": "stream",
     "text": [
      "100%|██████████| 316/316 [01:34<00:00,  3.33it/s]\n",
      "  0%|          | 0/316 [00:00<?, ?it/s]"
     ]
    },
    {
     "name": "stdout",
     "output_type": "stream",
     "text": [
      "{'ner': 24.643457840244732}\n",
      "Saved model to /Users/rishabh/Desktop/ProjectZomato\n",
      "81\n"
     ]
    },
    {
     "name": "stderr",
     "output_type": "stream",
     "text": [
      "100%|██████████| 316/316 [01:35<00:00,  3.32it/s]\n",
      "  0%|          | 0/316 [00:00<?, ?it/s]"
     ]
    },
    {
     "name": "stdout",
     "output_type": "stream",
     "text": [
      "{'ner': 37.66389677819797}\n",
      "Saved model to /Users/rishabh/Desktop/ProjectZomato\n",
      "82\n"
     ]
    },
    {
     "name": "stderr",
     "output_type": "stream",
     "text": [
      "100%|██████████| 316/316 [02:01<00:00,  2.59it/s]\n",
      "  0%|          | 0/316 [00:00<?, ?it/s]"
     ]
    },
    {
     "name": "stdout",
     "output_type": "stream",
     "text": [
      "{'ner': 23.485638729883153}\n",
      "Saved model to /Users/rishabh/Desktop/ProjectZomato\n",
      "83\n"
     ]
    },
    {
     "name": "stderr",
     "output_type": "stream",
     "text": [
      "100%|██████████| 316/316 [01:56<00:00,  2.71it/s]\n",
      "  0%|          | 0/316 [00:00<?, ?it/s]"
     ]
    },
    {
     "name": "stdout",
     "output_type": "stream",
     "text": [
      "{'ner': 11.656191329620233}\n",
      "Saved model to /Users/rishabh/Desktop/ProjectZomato\n",
      "84\n"
     ]
    },
    {
     "name": "stderr",
     "output_type": "stream",
     "text": [
      "100%|██████████| 316/316 [01:22<00:00,  3.83it/s]\n",
      "  0%|          | 0/316 [00:00<?, ?it/s]"
     ]
    },
    {
     "name": "stdout",
     "output_type": "stream",
     "text": [
      "{'ner': 22.323168017723596}\n",
      "Saved model to /Users/rishabh/Desktop/ProjectZomato\n",
      "85\n"
     ]
    },
    {
     "name": "stderr",
     "output_type": "stream",
     "text": [
      "100%|██████████| 316/316 [01:23<00:00,  3.79it/s]\n",
      "  0%|          | 0/316 [00:00<?, ?it/s]"
     ]
    },
    {
     "name": "stdout",
     "output_type": "stream",
     "text": [
      "{'ner': 22.331312921602578}\n",
      "Saved model to /Users/rishabh/Desktop/ProjectZomato\n",
      "86\n"
     ]
    },
    {
     "name": "stderr",
     "output_type": "stream",
     "text": [
      "100%|██████████| 316/316 [01:32<00:00,  3.42it/s]\n",
      "  0%|          | 0/316 [00:00<?, ?it/s]"
     ]
    },
    {
     "name": "stdout",
     "output_type": "stream",
     "text": [
      "{'ner': 52.2849338938207}\n",
      "Saved model to /Users/rishabh/Desktop/ProjectZomato\n",
      "87\n"
     ]
    },
    {
     "name": "stderr",
     "output_type": "stream",
     "text": [
      "100%|██████████| 316/316 [01:33<00:00,  3.38it/s]\n",
      "  0%|          | 0/316 [00:00<?, ?it/s]"
     ]
    },
    {
     "name": "stdout",
     "output_type": "stream",
     "text": [
      "{'ner': 32.24430942819524}\n",
      "Saved model to /Users/rishabh/Desktop/ProjectZomato\n",
      "88\n"
     ]
    },
    {
     "name": "stderr",
     "output_type": "stream",
     "text": [
      "100%|██████████| 316/316 [01:45<00:00,  3.00it/s]\n",
      "  0%|          | 0/316 [00:00<?, ?it/s]"
     ]
    },
    {
     "name": "stdout",
     "output_type": "stream",
     "text": [
      "{'ner': 18.831979463981767}\n",
      "Saved model to /Users/rishabh/Desktop/ProjectZomato\n",
      "89\n"
     ]
    },
    {
     "name": "stderr",
     "output_type": "stream",
     "text": [
      "100%|██████████| 316/316 [01:30<00:00,  3.51it/s]\n",
      "  0%|          | 0/316 [00:00<?, ?it/s]"
     ]
    },
    {
     "name": "stdout",
     "output_type": "stream",
     "text": [
      "{'ner': 18.031419631554943}\n",
      "Saved model to /Users/rishabh/Desktop/ProjectZomato\n",
      "90\n"
     ]
    },
    {
     "name": "stderr",
     "output_type": "stream",
     "text": [
      "100%|██████████| 316/316 [01:32<00:00,  3.43it/s]\n",
      "  0%|          | 0/316 [00:00<?, ?it/s]"
     ]
    },
    {
     "name": "stdout",
     "output_type": "stream",
     "text": [
      "{'ner': 7.248129414602318}\n",
      "Saved model to /Users/rishabh/Desktop/ProjectZomato\n",
      "91\n"
     ]
    },
    {
     "name": "stderr",
     "output_type": "stream",
     "text": [
      "100%|██████████| 316/316 [01:27<00:00,  3.60it/s]\n"
     ]
    },
    {
     "name": "stdout",
     "output_type": "stream",
     "text": [
      "{'ner': 15.616913405228782}\n"
     ]
    },
    {
     "name": "stderr",
     "output_type": "stream",
     "text": [
      "\r",
      "  0%|          | 0/316 [00:00<?, ?it/s]"
     ]
    },
    {
     "name": "stdout",
     "output_type": "stream",
     "text": [
      "Saved model to /Users/rishabh/Desktop/ProjectZomato\n",
      "92\n"
     ]
    },
    {
     "name": "stderr",
     "output_type": "stream",
     "text": [
      "100%|██████████| 316/316 [01:26<00:00,  3.66it/s]\n"
     ]
    },
    {
     "name": "stdout",
     "output_type": "stream",
     "text": [
      "{'ner': 34.04200002487114}\n"
     ]
    },
    {
     "name": "stderr",
     "output_type": "stream",
     "text": [
      "\r",
      "  0%|          | 0/316 [00:00<?, ?it/s]"
     ]
    },
    {
     "name": "stdout",
     "output_type": "stream",
     "text": [
      "Saved model to /Users/rishabh/Desktop/ProjectZomato\n",
      "93\n"
     ]
    },
    {
     "name": "stderr",
     "output_type": "stream",
     "text": [
      "100%|██████████| 316/316 [01:35<00:00,  3.30it/s]\n",
      "  0%|          | 0/316 [00:00<?, ?it/s]"
     ]
    },
    {
     "name": "stdout",
     "output_type": "stream",
     "text": [
      "{'ner': 24.609552644879965}\n",
      "Saved model to /Users/rishabh/Desktop/ProjectZomato\n",
      "94\n"
     ]
    },
    {
     "name": "stderr",
     "output_type": "stream",
     "text": [
      "100%|██████████| 316/316 [01:30<00:00,  3.49it/s]\n",
      "  0%|          | 0/316 [00:00<?, ?it/s]"
     ]
    },
    {
     "name": "stdout",
     "output_type": "stream",
     "text": [
      "{'ner': 35.69911901406183}\n",
      "Saved model to /Users/rishabh/Desktop/ProjectZomato\n",
      "95\n"
     ]
    },
    {
     "name": "stderr",
     "output_type": "stream",
     "text": [
      "100%|██████████| 316/316 [01:42<00:00,  3.09it/s]\n",
      "  0%|          | 0/316 [00:00<?, ?it/s]"
     ]
    },
    {
     "name": "stdout",
     "output_type": "stream",
     "text": [
      "{'ner': 40.749161564783215}\n",
      "Saved model to /Users/rishabh/Desktop/ProjectZomato\n",
      "96\n"
     ]
    },
    {
     "name": "stderr",
     "output_type": "stream",
     "text": [
      "100%|██████████| 316/316 [01:47<00:00,  2.94it/s]\n",
      "  0%|          | 0/316 [00:00<?, ?it/s]"
     ]
    },
    {
     "name": "stdout",
     "output_type": "stream",
     "text": [
      "{'ner': 6.782341316921996}\n",
      "Saved model to /Users/rishabh/Desktop/ProjectZomato\n",
      "97\n"
     ]
    },
    {
     "name": "stderr",
     "output_type": "stream",
     "text": [
      "100%|██████████| 316/316 [01:29<00:00,  3.51it/s]\n",
      "  0%|          | 0/316 [00:00<?, ?it/s]"
     ]
    },
    {
     "name": "stdout",
     "output_type": "stream",
     "text": [
      "{'ner': 23.575507888034096}\n",
      "Saved model to /Users/rishabh/Desktop/ProjectZomato\n",
      "98\n"
     ]
    },
    {
     "name": "stderr",
     "output_type": "stream",
     "text": [
      "100%|██████████| 316/316 [01:27<00:00,  3.62it/s]\n",
      "  0%|          | 0/316 [00:00<?, ?it/s]"
     ]
    },
    {
     "name": "stdout",
     "output_type": "stream",
     "text": [
      "{'ner': 11.026393699172496}\n",
      "Saved model to /Users/rishabh/Desktop/ProjectZomato\n",
      "99\n"
     ]
    },
    {
     "name": "stderr",
     "output_type": "stream",
     "text": [
      "100%|██████████| 316/316 [01:26<00:00,  3.67it/s]\n"
     ]
    },
    {
     "name": "stdout",
     "output_type": "stream",
     "text": [
      "{'ner': 27.150179142321708}\n",
      "Saved model to /Users/rishabh/Desktop/ProjectZomato\n",
      "Saved model to /Users/rishabh/Desktop/ProjectZomato\n"
     ]
    }
   ],
   "source": [
    "# Main and kinda only function to be called\n",
    "# Path of data for model to be trained from (must be excel, else change in above class function if uploading csv),\n",
    "# Path where you want to store the custom Model\n",
    "generate_food_model('/Users/rishabh/Desktop/ProjectZomato/foodcsv.xlsx','/Users/rishabh/Desktop/ProjectZomato/FoodNER')"
   ]
  },
  {
   "cell_type": "markdown",
   "metadata": {},
   "source": [
    "# Custom NER performance"
   ]
  },
  {
   "cell_type": "markdown",
   "metadata": {},
   "source": [
    "Since I only have 316 examples, I haven't split the dataset before into train and validation. So the metric scores we'll be getting will be on train data below. I have also retrained the model again dividing data into train and validation (files foodcsvtrain.xlsx and foodcsvtest.xlsx) which will be right after train precision calculated score"
   ]
  },
  {
   "cell_type": "markdown",
   "metadata": {},
   "source": [
    "I will be using **Precision Score** as the main metric for model evaluation. "
   ]
  },
  {
   "cell_type": "markdown",
   "metadata": {},
   "source": [
    "This is so because I am more interested to find out how many of the named entities is my model mis-classifying as being a food item. Anything classified multiple times as a food item with high rating will be shown to any end user and obviously you don't want it to output things like 'CP', 'Kirti Nagar Momos', 'Barbeque Nation'. If intuition of using precision is still not clear enough to you, take an example : A food item which is not being recognised as a food item will not affect our output that much since if it's trending or that good, there will be a lot of reviews having that and chances of our NER model recognising it increases. However a word or a Group of words recognised as food item which essentially are not will look wrongfully put in the output."
   ]
  },
  {
   "cell_type": "code",
   "execution_count": 4,
   "metadata": {
    "collapsed": true
   },
   "outputs": [],
   "source": [
    "def get_precision(model_path,train_path):\n",
    "    \"\"\"The function takes in model path of Custom Food NER and file path of data it was trained from and returns\n",
    "    the precision score of the model on train data\"\"\"\n",
    "    nlp = spacy.load(model_path)\n",
    "    tp=0\n",
    "    fp=0\n",
    "    obj = TrainFoodNER('/Users/rishabh/Desktop/ProjectZomato/foodcsv.xlsx')\n",
    "    TRAIN_DATA = obj.generate_train_from_df()\n",
    "    for items in TRAIN_DATA:\n",
    "        doc = nlp(items[0])\n",
    "        k_list = []\n",
    "        for its in items[1]['entities']:\n",
    "            k_list.append(items[0][its[0]:its[1]])\n",
    "        for tokens in doc.ents:\n",
    "            if tokens.text in k_list:\n",
    "                tp+=1\n",
    "            else:\n",
    "                fp+=1\n",
    "    return tp/(tp+fp)"
   ]
  },
  {
   "cell_type": "code",
   "execution_count": 36,
   "metadata": {
    "scrolled": true
   },
   "outputs": [
    {
     "data": {
      "text/plain": [
       "0.9097222222222222"
      ]
     },
     "execution_count": 36,
     "metadata": {},
     "output_type": "execute_result"
    }
   ],
   "source": [
    "get_precision('/Users/rishabh/Desktop/ProjectZomato/FoodNER','/Users/rishabh/Desktop/ProjectZomato/foodcsv.xlsx')"
   ]
  },
  {
   "cell_type": "markdown",
   "metadata": {},
   "source": [
    "A precision of 0.90 is good but two things are to be kept in mind, it's on train data, it can be so that the model is overfitting. To find this out I can divide 316 examples I trained on above into train and validation, construct model on train and evaluate on validation which I have done below."
   ]
  },
  {
   "cell_type": "markdown",
   "metadata": {},
   "source": [
    "## Let's try to train it on 245 examples and validate on remaining 66 examples:"
   ]
  },
  {
   "cell_type": "code",
   "execution_count": null,
   "metadata": {},
   "outputs": [
    {
     "name": "stdout",
     "output_type": "stream",
     "text": [
      "Created blank 'en' model\n",
      "Warning: Unnamed vectors -- this won't allow multiple vectors models to be loaded. (Shape: (0, 0))\n"
     ]
    },
    {
     "name": "stderr",
     "output_type": "stream",
     "text": [
      "  0%|          | 0/245 [00:00<?, ?it/s]/Applications/anaconda3/lib/python3.6/site-packages/numpy/linalg/linalg.py:2257: RuntimeWarning: invalid value encountered in sqrt\n",
      "  ret = sqrt(sqnorm)\n",
      "  0%|          | 1/245 [00:00<00:42,  5.74it/s]"
     ]
    },
    {
     "name": "stdout",
     "output_type": "stream",
     "text": [
      "0\n"
     ]
    },
    {
     "name": "stderr",
     "output_type": "stream",
     "text": [
      "100%|██████████| 245/245 [00:20<00:00, 12.24it/s]\n",
      "  0%|          | 0/245 [00:00<?, ?it/s]"
     ]
    },
    {
     "name": "stdout",
     "output_type": "stream",
     "text": [
      "{'ner': 754.4667709981615}\n",
      "Saved model to /Users/rishabh/Desktop/ProjectZomato/trainNER\n",
      "1\n"
     ]
    },
    {
     "name": "stderr",
     "output_type": "stream",
     "text": [
      "100%|██████████| 245/245 [00:31<00:00,  7.86it/s]\n",
      "  0%|          | 0/245 [00:00<?, ?it/s]"
     ]
    },
    {
     "name": "stdout",
     "output_type": "stream",
     "text": [
      "{'ner': 492.61260801699046}\n",
      "Saved model to /Users/rishabh/Desktop/ProjectZomato/trainNER\n",
      "2\n"
     ]
    },
    {
     "name": "stderr",
     "output_type": "stream",
     "text": [
      "100%|██████████| 245/245 [00:25<00:00,  9.49it/s]\n",
      "  0%|          | 1/245 [00:00<00:28,  8.59it/s]"
     ]
    },
    {
     "name": "stdout",
     "output_type": "stream",
     "text": [
      "{'ner': 426.1664253400353}\n",
      "Saved model to /Users/rishabh/Desktop/ProjectZomato/trainNER\n",
      "3\n"
     ]
    },
    {
     "name": "stderr",
     "output_type": "stream",
     "text": [
      "100%|██████████| 245/245 [00:26<00:00,  9.29it/s]\n",
      "  0%|          | 0/245 [00:00<?, ?it/s]"
     ]
    },
    {
     "name": "stdout",
     "output_type": "stream",
     "text": [
      "{'ner': 303.4432270535632}\n",
      "Saved model to /Users/rishabh/Desktop/ProjectZomato/trainNER\n",
      "4\n"
     ]
    },
    {
     "name": "stderr",
     "output_type": "stream",
     "text": [
      "100%|██████████| 245/245 [00:22<00:00, 10.89it/s]\n",
      "  0%|          | 0/245 [00:00<?, ?it/s]"
     ]
    },
    {
     "name": "stdout",
     "output_type": "stream",
     "text": [
      "{'ner': 237.98554882802455}\n",
      "Saved model to /Users/rishabh/Desktop/ProjectZomato/trainNER\n",
      "5\n"
     ]
    },
    {
     "name": "stderr",
     "output_type": "stream",
     "text": [
      "100%|██████████| 245/245 [00:28<00:00,  8.59it/s]\n",
      "  0%|          | 0/245 [00:00<?, ?it/s]"
     ]
    },
    {
     "name": "stdout",
     "output_type": "stream",
     "text": [
      "{'ner': 186.91682110726083}\n",
      "Saved model to /Users/rishabh/Desktop/ProjectZomato/trainNER\n",
      "6\n"
     ]
    },
    {
     "name": "stderr",
     "output_type": "stream",
     "text": [
      "100%|██████████| 245/245 [00:53<00:00,  4.57it/s]\n",
      "  0%|          | 0/245 [00:00<?, ?it/s]"
     ]
    },
    {
     "name": "stdout",
     "output_type": "stream",
     "text": [
      "{'ner': 124.46890507200698}\n",
      "Saved model to /Users/rishabh/Desktop/ProjectZomato/trainNER\n",
      "7\n"
     ]
    },
    {
     "name": "stderr",
     "output_type": "stream",
     "text": [
      "100%|██████████| 245/245 [01:12<00:00,  3.38it/s]\n",
      "  0%|          | 0/245 [00:00<?, ?it/s]"
     ]
    },
    {
     "name": "stdout",
     "output_type": "stream",
     "text": [
      "{'ner': 112.65537614249038}\n",
      "Saved model to /Users/rishabh/Desktop/ProjectZomato/trainNER\n",
      "8\n"
     ]
    },
    {
     "name": "stderr",
     "output_type": "stream",
     "text": [
      "100%|██████████| 245/245 [01:16<00:00,  3.19it/s]\n",
      "  0%|          | 0/245 [00:00<?, ?it/s]"
     ]
    },
    {
     "name": "stdout",
     "output_type": "stream",
     "text": [
      "{'ner': 85.0363549892019}\n",
      "Saved model to /Users/rishabh/Desktop/ProjectZomato/trainNER\n",
      "9\n"
     ]
    },
    {
     "name": "stderr",
     "output_type": "stream",
     "text": [
      "100%|██████████| 245/245 [01:22<00:00,  2.97it/s]\n",
      "  0%|          | 0/245 [00:00<?, ?it/s]"
     ]
    },
    {
     "name": "stdout",
     "output_type": "stream",
     "text": [
      "{'ner': 67.12187198191972}\n",
      "Saved model to /Users/rishabh/Desktop/ProjectZomato/trainNER\n",
      "10\n"
     ]
    },
    {
     "name": "stderr",
     "output_type": "stream",
     "text": [
      "100%|██████████| 245/245 [01:15<00:00,  3.26it/s]\n",
      "  0%|          | 0/245 [00:00<?, ?it/s]"
     ]
    },
    {
     "name": "stdout",
     "output_type": "stream",
     "text": [
      "{'ner': 76.77383963822652}\n",
      "Saved model to /Users/rishabh/Desktop/ProjectZomato/trainNER\n",
      "11\n"
     ]
    },
    {
     "name": "stderr",
     "output_type": "stream",
     "text": [
      "100%|██████████| 245/245 [01:12<00:00,  3.37it/s]\n",
      "  0%|          | 0/245 [00:00<?, ?it/s]"
     ]
    },
    {
     "name": "stdout",
     "output_type": "stream",
     "text": [
      "{'ner': 56.90762306307647}\n",
      "Saved model to /Users/rishabh/Desktop/ProjectZomato/trainNER\n",
      "12\n"
     ]
    },
    {
     "name": "stderr",
     "output_type": "stream",
     "text": [
      "100%|██████████| 245/245 [01:10<00:00,  3.47it/s]\n",
      "  0%|          | 0/245 [00:00<?, ?it/s]"
     ]
    },
    {
     "name": "stdout",
     "output_type": "stream",
     "text": [
      "{'ner': 80.7435216082795}\n",
      "Saved model to /Users/rishabh/Desktop/ProjectZomato/trainNER\n",
      "13\n"
     ]
    },
    {
     "name": "stderr",
     "output_type": "stream",
     "text": [
      "100%|██████████| 245/245 [01:10<00:00,  3.49it/s]\n",
      "  0%|          | 0/245 [00:00<?, ?it/s]"
     ]
    },
    {
     "name": "stdout",
     "output_type": "stream",
     "text": [
      "{'ner': 99.13243921382923}\n",
      "Saved model to /Users/rishabh/Desktop/ProjectZomato/trainNER\n",
      "14\n"
     ]
    },
    {
     "name": "stderr",
     "output_type": "stream",
     "text": [
      "100%|██████████| 245/245 [01:08<00:00,  3.58it/s]\n",
      "  0%|          | 0/245 [00:00<?, ?it/s]"
     ]
    },
    {
     "name": "stdout",
     "output_type": "stream",
     "text": [
      "{'ner': 97.1233011848562}\n",
      "Saved model to /Users/rishabh/Desktop/ProjectZomato/trainNER\n",
      "15\n"
     ]
    },
    {
     "name": "stderr",
     "output_type": "stream",
     "text": [
      "100%|██████████| 245/245 [01:08<00:00,  3.56it/s]\n",
      "  0%|          | 0/245 [00:00<?, ?it/s]"
     ]
    },
    {
     "name": "stdout",
     "output_type": "stream",
     "text": [
      "{'ner': 79.42214599330006}\n",
      "Saved model to /Users/rishabh/Desktop/ProjectZomato/trainNER\n",
      "16\n"
     ]
    },
    {
     "name": "stderr",
     "output_type": "stream",
     "text": [
      "100%|██████████| 245/245 [01:31<00:00,  2.67it/s]\n",
      "  0%|          | 0/245 [00:00<?, ?it/s]"
     ]
    },
    {
     "name": "stdout",
     "output_type": "stream",
     "text": [
      "{'ner': 80.07245702789614}\n",
      "Saved model to /Users/rishabh/Desktop/ProjectZomato/trainNER\n",
      "17\n"
     ]
    },
    {
     "name": "stderr",
     "output_type": "stream",
     "text": [
      "100%|██████████| 245/245 [01:17<00:00,  3.15it/s]\n",
      "  0%|          | 0/245 [00:00<?, ?it/s]"
     ]
    },
    {
     "name": "stdout",
     "output_type": "stream",
     "text": [
      "{'ner': 113.32999012985084}\n",
      "Saved model to /Users/rishabh/Desktop/ProjectZomato/trainNER\n",
      "18\n"
     ]
    },
    {
     "name": "stderr",
     "output_type": "stream",
     "text": [
      "100%|██████████| 245/245 [01:19<00:00,  3.07it/s]\n",
      "  0%|          | 0/245 [00:00<?, ?it/s]"
     ]
    },
    {
     "name": "stdout",
     "output_type": "stream",
     "text": [
      "{'ner': 62.78786989157245}\n",
      "Saved model to /Users/rishabh/Desktop/ProjectZomato/trainNER\n",
      "19\n"
     ]
    },
    {
     "name": "stderr",
     "output_type": "stream",
     "text": [
      "100%|██████████| 245/245 [01:10<00:00,  3.47it/s]\n",
      "  0%|          | 0/245 [00:00<?, ?it/s]"
     ]
    },
    {
     "name": "stdout",
     "output_type": "stream",
     "text": [
      "{'ner': 79.57962307835001}\n",
      "Saved model to /Users/rishabh/Desktop/ProjectZomato/trainNER\n",
      "20\n"
     ]
    },
    {
     "name": "stderr",
     "output_type": "stream",
     "text": [
      "100%|██████████| 245/245 [01:08<00:00,  3.58it/s]\n",
      "  0%|          | 0/245 [00:00<?, ?it/s]"
     ]
    },
    {
     "name": "stdout",
     "output_type": "stream",
     "text": [
      "{'ner': 74.49107160281041}\n",
      "Saved model to /Users/rishabh/Desktop/ProjectZomato/trainNER\n",
      "21\n"
     ]
    },
    {
     "name": "stderr",
     "output_type": "stream",
     "text": [
      "100%|██████████| 245/245 [01:09<00:00,  3.54it/s]\n",
      "  0%|          | 0/245 [00:00<?, ?it/s]"
     ]
    },
    {
     "name": "stdout",
     "output_type": "stream",
     "text": [
      "{'ner': 62.13786417330621}\n",
      "Saved model to /Users/rishabh/Desktop/ProjectZomato/trainNER\n",
      "22\n"
     ]
    },
    {
     "name": "stderr",
     "output_type": "stream",
     "text": [
      "100%|██████████| 245/245 [01:10<00:00,  3.46it/s]\n"
     ]
    },
    {
     "name": "stdout",
     "output_type": "stream",
     "text": [
      "{'ner': 55.639988055487336}\n"
     ]
    },
    {
     "name": "stderr",
     "output_type": "stream",
     "text": [
      "\r",
      "  0%|          | 0/245 [00:00<?, ?it/s]"
     ]
    },
    {
     "name": "stdout",
     "output_type": "stream",
     "text": [
      "Saved model to /Users/rishabh/Desktop/ProjectZomato/trainNER\n",
      "23\n"
     ]
    },
    {
     "name": "stderr",
     "output_type": "stream",
     "text": [
      "100%|██████████| 245/245 [01:21<00:00,  3.01it/s]\n",
      "  0%|          | 0/245 [00:00<?, ?it/s]"
     ]
    },
    {
     "name": "stdout",
     "output_type": "stream",
     "text": [
      "{'ner': 79.27105247120333}\n",
      "Saved model to /Users/rishabh/Desktop/ProjectZomato/trainNER\n",
      "24\n"
     ]
    },
    {
     "name": "stderr",
     "output_type": "stream",
     "text": [
      "100%|██████████| 245/245 [01:07<00:00,  3.62it/s]\n",
      "  0%|          | 0/245 [00:00<?, ?it/s]"
     ]
    },
    {
     "name": "stdout",
     "output_type": "stream",
     "text": [
      "{'ner': 51.75858443650964}\n",
      "Saved model to /Users/rishabh/Desktop/ProjectZomato/trainNER\n",
      "25\n"
     ]
    },
    {
     "name": "stderr",
     "output_type": "stream",
     "text": [
      "100%|██████████| 245/245 [01:09<00:00,  3.51it/s]\n",
      "  0%|          | 0/245 [00:00<?, ?it/s]"
     ]
    },
    {
     "name": "stdout",
     "output_type": "stream",
     "text": [
      "{'ner': 63.480869945405814}\n",
      "Saved model to /Users/rishabh/Desktop/ProjectZomato/trainNER\n",
      "26\n"
     ]
    },
    {
     "name": "stderr",
     "output_type": "stream",
     "text": [
      "100%|██████████| 245/245 [01:21<00:00,  3.01it/s]\n",
      "  0%|          | 0/245 [00:00<?, ?it/s]"
     ]
    },
    {
     "name": "stdout",
     "output_type": "stream",
     "text": [
      "{'ner': 45.128626307220216}\n",
      "Saved model to /Users/rishabh/Desktop/ProjectZomato/trainNER\n",
      "27\n"
     ]
    },
    {
     "name": "stderr",
     "output_type": "stream",
     "text": [
      "100%|██████████| 245/245 [01:11<00:00,  3.43it/s]\n",
      "  0%|          | 0/245 [00:00<?, ?it/s]"
     ]
    },
    {
     "name": "stdout",
     "output_type": "stream",
     "text": [
      "{'ner': 67.13778658674913}\n",
      "Saved model to /Users/rishabh/Desktop/ProjectZomato/trainNER\n",
      "28\n"
     ]
    },
    {
     "name": "stderr",
     "output_type": "stream",
     "text": [
      "100%|██████████| 245/245 [01:19<00:00,  3.10it/s]\n",
      "  0%|          | 0/245 [00:00<?, ?it/s]"
     ]
    },
    {
     "name": "stdout",
     "output_type": "stream",
     "text": [
      "{'ner': 48.91419890111815}\n",
      "Saved model to /Users/rishabh/Desktop/ProjectZomato/trainNER\n",
      "29\n"
     ]
    },
    {
     "name": "stderr",
     "output_type": "stream",
     "text": [
      "100%|██████████| 245/245 [01:10<00:00,  3.47it/s]\n",
      "  0%|          | 0/245 [00:00<?, ?it/s]"
     ]
    },
    {
     "name": "stdout",
     "output_type": "stream",
     "text": [
      "{'ner': 42.227527116822536}\n",
      "Saved model to /Users/rishabh/Desktop/ProjectZomato/trainNER\n",
      "30\n"
     ]
    },
    {
     "name": "stderr",
     "output_type": "stream",
     "text": [
      "100%|██████████| 245/245 [01:17<00:00,  3.18it/s]\n",
      "  0%|          | 0/245 [00:00<?, ?it/s]"
     ]
    },
    {
     "name": "stdout",
     "output_type": "stream",
     "text": [
      "{'ner': 60.63340860428047}\n",
      "Saved model to /Users/rishabh/Desktop/ProjectZomato/trainNER\n",
      "31\n"
     ]
    },
    {
     "name": "stderr",
     "output_type": "stream",
     "text": [
      "100%|██████████| 245/245 [01:10<00:00,  3.45it/s]\n",
      "  0%|          | 0/245 [00:00<?, ?it/s]"
     ]
    },
    {
     "name": "stdout",
     "output_type": "stream",
     "text": [
      "{'ner': 43.49311323165101}\n",
      "Saved model to /Users/rishabh/Desktop/ProjectZomato/trainNER\n",
      "32\n"
     ]
    },
    {
     "name": "stderr",
     "output_type": "stream",
     "text": [
      "100%|██████████| 245/245 [01:14<00:00,  3.27it/s]\n",
      "  0%|          | 0/245 [00:00<?, ?it/s]"
     ]
    },
    {
     "name": "stdout",
     "output_type": "stream",
     "text": [
      "{'ner': 61.64658419531899}\n",
      "Saved model to /Users/rishabh/Desktop/ProjectZomato/trainNER\n",
      "33\n"
     ]
    },
    {
     "name": "stderr",
     "output_type": "stream",
     "text": [
      "100%|██████████| 245/245 [01:16<00:00,  3.19it/s]\n",
      "  0%|          | 0/245 [00:00<?, ?it/s]"
     ]
    },
    {
     "name": "stdout",
     "output_type": "stream",
     "text": [
      "{'ner': 44.48403385142401}\n",
      "Saved model to /Users/rishabh/Desktop/ProjectZomato/trainNER\n",
      "34\n"
     ]
    },
    {
     "name": "stderr",
     "output_type": "stream",
     "text": [
      "100%|██████████| 245/245 [01:22<00:00,  2.99it/s]\n",
      "  0%|          | 0/245 [00:00<?, ?it/s]"
     ]
    },
    {
     "name": "stdout",
     "output_type": "stream",
     "text": [
      "{'ner': 71.61980004081065}\n",
      "Saved model to /Users/rishabh/Desktop/ProjectZomato/trainNER\n",
      "35\n"
     ]
    },
    {
     "name": "stderr",
     "output_type": "stream",
     "text": [
      "100%|██████████| 245/245 [01:19<00:00,  3.07it/s]\n",
      "  0%|          | 0/245 [00:00<?, ?it/s]"
     ]
    },
    {
     "name": "stdout",
     "output_type": "stream",
     "text": [
      "{'ner': 47.25201814764113}\n",
      "Saved model to /Users/rishabh/Desktop/ProjectZomato/trainNER\n",
      "36\n"
     ]
    },
    {
     "name": "stderr",
     "output_type": "stream",
     "text": [
      "100%|██████████| 245/245 [01:05<00:00,  3.75it/s]\n",
      "  0%|          | 0/245 [00:00<?, ?it/s]"
     ]
    },
    {
     "name": "stdout",
     "output_type": "stream",
     "text": [
      "{'ner': 56.99664870982927}\n",
      "Saved model to /Users/rishabh/Desktop/ProjectZomato/trainNER\n",
      "37\n"
     ]
    },
    {
     "name": "stderr",
     "output_type": "stream",
     "text": [
      "100%|██████████| 245/245 [01:04<00:00,  3.79it/s]\n",
      "  0%|          | 0/245 [00:00<?, ?it/s]"
     ]
    },
    {
     "name": "stdout",
     "output_type": "stream",
     "text": [
      "{'ner': 32.37837358301699}\n",
      "Saved model to /Users/rishabh/Desktop/ProjectZomato/trainNER\n",
      "38\n"
     ]
    },
    {
     "name": "stderr",
     "output_type": "stream",
     "text": [
      "100%|██████████| 245/245 [01:04<00:00,  3.77it/s]\n",
      "  0%|          | 0/245 [00:00<?, ?it/s]"
     ]
    },
    {
     "name": "stdout",
     "output_type": "stream",
     "text": [
      "{'ner': 50.294420570220176}\n",
      "Saved model to /Users/rishabh/Desktop/ProjectZomato/trainNER\n",
      "39\n"
     ]
    },
    {
     "name": "stderr",
     "output_type": "stream",
     "text": [
      "100%|██████████| 245/245 [01:05<00:00,  3.76it/s]\n",
      "  0%|          | 0/245 [00:00<?, ?it/s]"
     ]
    },
    {
     "name": "stdout",
     "output_type": "stream",
     "text": [
      "{'ner': 31.55434378667148}\n",
      "Saved model to /Users/rishabh/Desktop/ProjectZomato/trainNER\n",
      "40\n"
     ]
    },
    {
     "name": "stderr",
     "output_type": "stream",
     "text": [
      "100%|██████████| 245/245 [01:05<00:00,  3.72it/s]\n",
      "  0%|          | 0/245 [00:00<?, ?it/s]"
     ]
    },
    {
     "name": "stdout",
     "output_type": "stream",
     "text": [
      "{'ner': 58.492046012669874}\n",
      "Saved model to /Users/rishabh/Desktop/ProjectZomato/trainNER\n",
      "41\n"
     ]
    },
    {
     "name": "stderr",
     "output_type": "stream",
     "text": [
      "100%|██████████| 245/245 [01:05<00:00,  3.76it/s]\n",
      "  0%|          | 0/245 [00:00<?, ?it/s]"
     ]
    },
    {
     "name": "stdout",
     "output_type": "stream",
     "text": [
      "{'ner': 15.811096172331329}\n",
      "Saved model to /Users/rishabh/Desktop/ProjectZomato/trainNER\n",
      "42\n"
     ]
    },
    {
     "name": "stderr",
     "output_type": "stream",
     "text": [
      "100%|██████████| 245/245 [01:05<00:00,  3.73it/s]\n",
      "  0%|          | 0/245 [00:00<?, ?it/s]"
     ]
    },
    {
     "name": "stdout",
     "output_type": "stream",
     "text": [
      "{'ner': 23.941733084931812}\n",
      "Saved model to /Users/rishabh/Desktop/ProjectZomato/trainNER\n",
      "43\n"
     ]
    },
    {
     "name": "stderr",
     "output_type": "stream",
     "text": [
      "100%|██████████| 245/245 [01:05<00:00,  3.74it/s]\n",
      "  0%|          | 0/245 [00:00<?, ?it/s]"
     ]
    },
    {
     "name": "stdout",
     "output_type": "stream",
     "text": [
      "{'ner': 29.334867115640623}\n",
      "Saved model to /Users/rishabh/Desktop/ProjectZomato/trainNER\n",
      "44\n"
     ]
    },
    {
     "name": "stderr",
     "output_type": "stream",
     "text": [
      "100%|██████████| 245/245 [01:05<00:00,  3.73it/s]\n",
      "  0%|          | 0/245 [00:00<?, ?it/s]"
     ]
    },
    {
     "name": "stdout",
     "output_type": "stream",
     "text": [
      "{'ner': 29.30754206564195}\n",
      "Saved model to /Users/rishabh/Desktop/ProjectZomato/trainNER\n",
      "45\n"
     ]
    },
    {
     "name": "stderr",
     "output_type": "stream",
     "text": [
      "100%|██████████| 245/245 [01:05<00:00,  3.77it/s]\n",
      "  0%|          | 0/245 [00:00<?, ?it/s]"
     ]
    },
    {
     "name": "stdout",
     "output_type": "stream",
     "text": [
      "{'ner': 38.77508390546532}\n",
      "Saved model to /Users/rishabh/Desktop/ProjectZomato/trainNER\n",
      "46\n"
     ]
    },
    {
     "name": "stderr",
     "output_type": "stream",
     "text": [
      "100%|██████████| 245/245 [01:05<00:00,  3.73it/s]\n",
      "  0%|          | 0/245 [00:00<?, ?it/s]"
     ]
    },
    {
     "name": "stdout",
     "output_type": "stream",
     "text": [
      "{'ner': 40.23039197717104}\n",
      "Saved model to /Users/rishabh/Desktop/ProjectZomato/trainNER\n",
      "47\n"
     ]
    },
    {
     "name": "stderr",
     "output_type": "stream",
     "text": [
      "100%|██████████| 245/245 [01:05<00:00,  3.75it/s]\n",
      "  0%|          | 0/245 [00:00<?, ?it/s]"
     ]
    },
    {
     "name": "stdout",
     "output_type": "stream",
     "text": [
      "{'ner': 64.49285024993054}\n",
      "Saved model to /Users/rishabh/Desktop/ProjectZomato/trainNER\n",
      "48\n"
     ]
    },
    {
     "name": "stderr",
     "output_type": "stream",
     "text": [
      "100%|██████████| 245/245 [01:05<00:00,  3.74it/s]\n",
      "  0%|          | 0/245 [00:00<?, ?it/s]"
     ]
    },
    {
     "name": "stdout",
     "output_type": "stream",
     "text": [
      "{'ner': 46.76876641657235}\n",
      "Saved model to /Users/rishabh/Desktop/ProjectZomato/trainNER\n",
      "49\n"
     ]
    },
    {
     "name": "stderr",
     "output_type": "stream",
     "text": [
      "100%|██████████| 245/245 [01:06<00:00,  3.71it/s]\n",
      "  0%|          | 0/245 [00:00<?, ?it/s]"
     ]
    },
    {
     "name": "stdout",
     "output_type": "stream",
     "text": [
      "{'ner': 43.687394273023806}\n",
      "Saved model to /Users/rishabh/Desktop/ProjectZomato/trainNER\n",
      "50\n"
     ]
    },
    {
     "name": "stderr",
     "output_type": "stream",
     "text": [
      "100%|██████████| 245/245 [01:04<00:00,  3.77it/s]\n",
      "  0%|          | 0/245 [00:00<?, ?it/s]"
     ]
    },
    {
     "name": "stdout",
     "output_type": "stream",
     "text": [
      "{'ner': 24.229295718428236}\n",
      "Saved model to /Users/rishabh/Desktop/ProjectZomato/trainNER\n",
      "51\n"
     ]
    },
    {
     "name": "stderr",
     "output_type": "stream",
     "text": [
      "100%|██████████| 245/245 [01:05<00:00,  3.76it/s]\n",
      "  0%|          | 0/245 [00:00<?, ?it/s]"
     ]
    },
    {
     "name": "stdout",
     "output_type": "stream",
     "text": [
      "{'ner': 28.844854889407195}\n",
      "Saved model to /Users/rishabh/Desktop/ProjectZomato/trainNER\n",
      "52\n"
     ]
    },
    {
     "name": "stderr",
     "output_type": "stream",
     "text": [
      "100%|██████████| 245/245 [01:05<00:00,  3.77it/s]\n",
      "  0%|          | 0/245 [00:00<?, ?it/s]"
     ]
    },
    {
     "name": "stdout",
     "output_type": "stream",
     "text": [
      "{'ner': 17.63896968308447}\n",
      "Saved model to /Users/rishabh/Desktop/ProjectZomato/trainNER\n",
      "53\n"
     ]
    },
    {
     "name": "stderr",
     "output_type": "stream",
     "text": [
      "100%|██████████| 245/245 [01:05<00:00,  3.74it/s]\n",
      "  0%|          | 0/245 [00:00<?, ?it/s]"
     ]
    },
    {
     "name": "stdout",
     "output_type": "stream",
     "text": [
      "{'ner': 36.03718729221527}\n",
      "Saved model to /Users/rishabh/Desktop/ProjectZomato/trainNER\n",
      "54\n"
     ]
    },
    {
     "name": "stderr",
     "output_type": "stream",
     "text": [
      "100%|██████████| 245/245 [01:05<00:00,  3.74it/s]\n",
      "  0%|          | 0/245 [00:00<?, ?it/s]"
     ]
    },
    {
     "name": "stdout",
     "output_type": "stream",
     "text": [
      "{'ner': 34.858116304449936}\n",
      "Saved model to /Users/rishabh/Desktop/ProjectZomato/trainNER\n",
      "55\n"
     ]
    },
    {
     "name": "stderr",
     "output_type": "stream",
     "text": [
      "100%|██████████| 245/245 [01:05<00:00,  3.73it/s]\n",
      "  0%|          | 0/245 [00:00<?, ?it/s]"
     ]
    },
    {
     "name": "stdout",
     "output_type": "stream",
     "text": [
      "{'ner': 15.219444864564254}\n",
      "Saved model to /Users/rishabh/Desktop/ProjectZomato/trainNER\n",
      "56\n"
     ]
    },
    {
     "name": "stderr",
     "output_type": "stream",
     "text": [
      "100%|██████████| 245/245 [01:05<00:00,  3.71it/s]\n",
      "  0%|          | 0/245 [00:00<?, ?it/s]"
     ]
    },
    {
     "name": "stdout",
     "output_type": "stream",
     "text": [
      "{'ner': 6.8047408965742875}\n",
      "Saved model to /Users/rishabh/Desktop/ProjectZomato/trainNER\n",
      "57\n"
     ]
    },
    {
     "name": "stderr",
     "output_type": "stream",
     "text": [
      "100%|██████████| 245/245 [01:05<00:00,  3.74it/s]\n",
      "  0%|          | 0/245 [00:00<?, ?it/s]"
     ]
    },
    {
     "name": "stdout",
     "output_type": "stream",
     "text": [
      "{'ner': 21.44180977272732}\n",
      "Saved model to /Users/rishabh/Desktop/ProjectZomato/trainNER\n",
      "58\n"
     ]
    },
    {
     "name": "stderr",
     "output_type": "stream",
     "text": [
      "100%|██████████| 245/245 [01:05<00:00,  3.72it/s]\n",
      "  0%|          | 0/245 [00:00<?, ?it/s]"
     ]
    },
    {
     "name": "stdout",
     "output_type": "stream",
     "text": [
      "{'ner': 15.223599688454133}\n",
      "Saved model to /Users/rishabh/Desktop/ProjectZomato/trainNER\n",
      "59\n"
     ]
    },
    {
     "name": "stderr",
     "output_type": "stream",
     "text": [
      "100%|██████████| 245/245 [01:06<00:00,  3.70it/s]\n",
      "  0%|          | 0/245 [00:00<?, ?it/s]"
     ]
    },
    {
     "name": "stdout",
     "output_type": "stream",
     "text": [
      "{'ner': 13.356838815148842}\n",
      "Saved model to /Users/rishabh/Desktop/ProjectZomato/trainNER\n",
      "60\n"
     ]
    },
    {
     "name": "stderr",
     "output_type": "stream",
     "text": [
      "100%|██████████| 245/245 [01:05<00:00,  3.74it/s]\n",
      "  0%|          | 0/245 [00:00<?, ?it/s]"
     ]
    },
    {
     "name": "stdout",
     "output_type": "stream",
     "text": [
      "{'ner': 36.983693005283}\n",
      "Saved model to /Users/rishabh/Desktop/ProjectZomato/trainNER\n",
      "61\n"
     ]
    },
    {
     "name": "stderr",
     "output_type": "stream",
     "text": [
      "100%|██████████| 245/245 [01:05<00:00,  3.74it/s]\n",
      "  0%|          | 0/245 [00:00<?, ?it/s]"
     ]
    },
    {
     "name": "stdout",
     "output_type": "stream",
     "text": [
      "{'ner': 44.852007434984024}\n",
      "Saved model to /Users/rishabh/Desktop/ProjectZomato/trainNER\n",
      "62\n"
     ]
    },
    {
     "name": "stderr",
     "output_type": "stream",
     "text": [
      "100%|██████████| 245/245 [01:06<00:00,  3.70it/s]\n",
      "  0%|          | 0/245 [00:00<?, ?it/s]"
     ]
    },
    {
     "name": "stdout",
     "output_type": "stream",
     "text": [
      "{'ner': 44.24436371471139}\n",
      "Saved model to /Users/rishabh/Desktop/ProjectZomato/trainNER\n",
      "63\n"
     ]
    },
    {
     "name": "stderr",
     "output_type": "stream",
     "text": [
      "100%|██████████| 245/245 [01:06<00:00,  3.71it/s]\n",
      "  0%|          | 0/245 [00:00<?, ?it/s]"
     ]
    },
    {
     "name": "stdout",
     "output_type": "stream",
     "text": [
      "{'ner': 19.46371435752305}\n",
      "Saved model to /Users/rishabh/Desktop/ProjectZomato/trainNER\n",
      "64\n"
     ]
    },
    {
     "name": "stderr",
     "output_type": "stream",
     "text": [
      "100%|██████████| 245/245 [01:05<00:00,  3.72it/s]\n",
      "  0%|          | 0/245 [00:00<?, ?it/s]"
     ]
    },
    {
     "name": "stdout",
     "output_type": "stream",
     "text": [
      "{'ner': 21.625535589855062}\n",
      "Saved model to /Users/rishabh/Desktop/ProjectZomato/trainNER\n",
      "65\n"
     ]
    },
    {
     "name": "stderr",
     "output_type": "stream",
     "text": [
      "100%|██████████| 245/245 [01:05<00:00,  3.73it/s]\n",
      "  0%|          | 0/245 [00:00<?, ?it/s]"
     ]
    },
    {
     "name": "stdout",
     "output_type": "stream",
     "text": [
      "{'ner': 38.049478136197536}\n",
      "Saved model to /Users/rishabh/Desktop/ProjectZomato/trainNER\n",
      "66\n"
     ]
    },
    {
     "name": "stderr",
     "output_type": "stream",
     "text": [
      "100%|██████████| 245/245 [01:05<00:00,  3.72it/s]\n",
      "  0%|          | 0/245 [00:00<?, ?it/s]"
     ]
    },
    {
     "name": "stdout",
     "output_type": "stream",
     "text": [
      "{'ner': 19.378721778991874}\n",
      "Saved model to /Users/rishabh/Desktop/ProjectZomato/trainNER\n",
      "67\n"
     ]
    },
    {
     "name": "stderr",
     "output_type": "stream",
     "text": [
      "100%|██████████| 245/245 [01:06<00:00,  3.71it/s]\n",
      "  0%|          | 0/245 [00:00<?, ?it/s]"
     ]
    },
    {
     "name": "stdout",
     "output_type": "stream",
     "text": [
      "{'ner': 28.952881163546543}\n",
      "Saved model to /Users/rishabh/Desktop/ProjectZomato/trainNER\n",
      "68\n"
     ]
    },
    {
     "name": "stderr",
     "output_type": "stream",
     "text": [
      "100%|██████████| 245/245 [01:06<00:00,  3.69it/s]\n",
      "  0%|          | 0/245 [00:00<?, ?it/s]"
     ]
    },
    {
     "name": "stdout",
     "output_type": "stream",
     "text": [
      "{'ner': 28.23950502172402}\n",
      "Saved model to /Users/rishabh/Desktop/ProjectZomato/trainNER\n",
      "69\n"
     ]
    },
    {
     "name": "stderr",
     "output_type": "stream",
     "text": [
      "100%|██████████| 245/245 [01:06<00:00,  3.71it/s]\n",
      "  0%|          | 0/245 [00:00<?, ?it/s]"
     ]
    },
    {
     "name": "stdout",
     "output_type": "stream",
     "text": [
      "{'ner': 24.91977150420249}\n",
      "Saved model to /Users/rishabh/Desktop/ProjectZomato/trainNER\n",
      "70\n"
     ]
    },
    {
     "name": "stderr",
     "output_type": "stream",
     "text": [
      "100%|██████████| 245/245 [01:05<00:00,  3.74it/s]\n",
      "  0%|          | 0/245 [00:00<?, ?it/s]"
     ]
    },
    {
     "name": "stdout",
     "output_type": "stream",
     "text": [
      "{'ner': 34.3339095276058}\n",
      "Saved model to /Users/rishabh/Desktop/ProjectZomato/trainNER\n",
      "71\n"
     ]
    },
    {
     "name": "stderr",
     "output_type": "stream",
     "text": [
      "100%|██████████| 245/245 [01:21<00:00,  3.01it/s]\n",
      "  0%|          | 0/245 [00:00<?, ?it/s]"
     ]
    },
    {
     "name": "stdout",
     "output_type": "stream",
     "text": [
      "{'ner': 20.79087176882516}\n",
      "Saved model to /Users/rishabh/Desktop/ProjectZomato/trainNER\n",
      "72\n"
     ]
    },
    {
     "name": "stderr",
     "output_type": "stream",
     "text": [
      "100%|██████████| 245/245 [01:13<00:00,  3.35it/s]\n",
      "  0%|          | 0/245 [00:00<?, ?it/s]"
     ]
    },
    {
     "name": "stdout",
     "output_type": "stream",
     "text": [
      "{'ner': 25.016982964048275}\n",
      "Saved model to /Users/rishabh/Desktop/ProjectZomato/trainNER\n",
      "73\n"
     ]
    },
    {
     "name": "stderr",
     "output_type": "stream",
     "text": [
      "100%|██████████| 245/245 [01:15<00:00,  3.26it/s]\n",
      "  0%|          | 0/245 [00:00<?, ?it/s]"
     ]
    },
    {
     "name": "stdout",
     "output_type": "stream",
     "text": [
      "{'ner': 11.887979047342267}\n",
      "Saved model to /Users/rishabh/Desktop/ProjectZomato/trainNER\n",
      "74\n"
     ]
    },
    {
     "name": "stderr",
     "output_type": "stream",
     "text": [
      "100%|██████████| 245/245 [01:11<00:00,  3.42it/s]\n",
      "  0%|          | 0/245 [00:00<?, ?it/s]"
     ]
    },
    {
     "name": "stdout",
     "output_type": "stream",
     "text": [
      "{'ner': 20.827286099569754}\n",
      "Saved model to /Users/rishabh/Desktop/ProjectZomato/trainNER\n",
      "75\n"
     ]
    },
    {
     "name": "stderr",
     "output_type": "stream",
     "text": [
      "100%|██████████| 245/245 [01:14<00:00,  3.30it/s]\n",
      "  0%|          | 0/245 [00:00<?, ?it/s]"
     ]
    },
    {
     "name": "stdout",
     "output_type": "stream",
     "text": [
      "{'ner': 23.312346185189245}\n",
      "Saved model to /Users/rishabh/Desktop/ProjectZomato/trainNER\n",
      "76\n"
     ]
    },
    {
     "name": "stderr",
     "output_type": "stream",
     "text": [
      "100%|██████████| 245/245 [01:07<00:00,  3.62it/s]\n",
      "  0%|          | 0/245 [00:00<?, ?it/s]"
     ]
    },
    {
     "name": "stdout",
     "output_type": "stream",
     "text": [
      "{'ner': 20.673176465846733}\n",
      "Saved model to /Users/rishabh/Desktop/ProjectZomato/trainNER\n",
      "77\n"
     ]
    },
    {
     "name": "stderr",
     "output_type": "stream",
     "text": [
      "100%|██████████| 245/245 [01:07<00:00,  3.61it/s]\n",
      "  0%|          | 0/245 [00:00<?, ?it/s]"
     ]
    },
    {
     "name": "stdout",
     "output_type": "stream",
     "text": [
      "{'ner': 17.829429860032445}\n",
      "Saved model to /Users/rishabh/Desktop/ProjectZomato/trainNER\n",
      "78\n"
     ]
    },
    {
     "name": "stderr",
     "output_type": "stream",
     "text": [
      "100%|██████████| 245/245 [01:10<00:00,  3.49it/s]\n"
     ]
    },
    {
     "name": "stdout",
     "output_type": "stream",
     "text": [
      "{'ner': 19.892557387229274}\n"
     ]
    },
    {
     "name": "stderr",
     "output_type": "stream",
     "text": [
      "\r",
      "  0%|          | 0/245 [00:00<?, ?it/s]"
     ]
    },
    {
     "name": "stdout",
     "output_type": "stream",
     "text": [
      "Saved model to /Users/rishabh/Desktop/ProjectZomato/trainNER\n",
      "79\n"
     ]
    },
    {
     "name": "stderr",
     "output_type": "stream",
     "text": [
      "100%|██████████| 245/245 [01:14<00:00,  3.29it/s]\n",
      "  0%|          | 0/245 [00:00<?, ?it/s]"
     ]
    },
    {
     "name": "stdout",
     "output_type": "stream",
     "text": [
      "{'ner': 18.71100295103869}\n",
      "Saved model to /Users/rishabh/Desktop/ProjectZomato/trainNER\n",
      "80\n"
     ]
    },
    {
     "name": "stderr",
     "output_type": "stream",
     "text": [
      "100%|██████████| 245/245 [01:12<00:00,  3.39it/s]\n",
      "  0%|          | 0/245 [00:00<?, ?it/s]"
     ]
    },
    {
     "name": "stdout",
     "output_type": "stream",
     "text": [
      "{'ner': 18.035216465760385}\n",
      "Saved model to /Users/rishabh/Desktop/ProjectZomato/trainNER\n",
      "81\n"
     ]
    },
    {
     "name": "stderr",
     "output_type": "stream",
     "text": [
      "100%|██████████| 245/245 [01:08<00:00,  3.56it/s]\n",
      "  0%|          | 0/245 [00:00<?, ?it/s]"
     ]
    },
    {
     "name": "stdout",
     "output_type": "stream",
     "text": [
      "{'ner': 33.90571349471999}\n",
      "Saved model to /Users/rishabh/Desktop/ProjectZomato/trainNER\n",
      "82\n"
     ]
    },
    {
     "name": "stderr",
     "output_type": "stream",
     "text": [
      "100%|██████████| 245/245 [01:10<00:00,  3.48it/s]\n",
      "  0%|          | 0/245 [00:00<?, ?it/s]"
     ]
    },
    {
     "name": "stdout",
     "output_type": "stream",
     "text": [
      "{'ner': 11.235739882388547}\n",
      "Saved model to /Users/rishabh/Desktop/ProjectZomato/trainNER\n",
      "83\n"
     ]
    },
    {
     "name": "stderr",
     "output_type": "stream",
     "text": [
      "100%|██████████| 245/245 [01:10<00:00,  3.50it/s]\n",
      "  0%|          | 0/245 [00:00<?, ?it/s]"
     ]
    },
    {
     "name": "stdout",
     "output_type": "stream",
     "text": [
      "{'ner': 16.575881089950283}\n",
      "Saved model to /Users/rishabh/Desktop/ProjectZomato/trainNER\n",
      "84\n"
     ]
    },
    {
     "name": "stderr",
     "output_type": "stream",
     "text": [
      "100%|██████████| 245/245 [01:15<00:00,  3.24it/s]\n",
      "  0%|          | 0/245 [00:00<?, ?it/s]"
     ]
    },
    {
     "name": "stdout",
     "output_type": "stream",
     "text": [
      "{'ner': 22.506388963879218}\n",
      "Saved model to /Users/rishabh/Desktop/ProjectZomato/trainNER\n",
      "85\n"
     ]
    },
    {
     "name": "stderr",
     "output_type": "stream",
     "text": [
      "100%|██████████| 245/245 [01:19<00:00,  3.07it/s]\n",
      "  0%|          | 0/245 [00:00<?, ?it/s]"
     ]
    },
    {
     "name": "stdout",
     "output_type": "stream",
     "text": [
      "{'ner': 12.794615922445177}\n",
      "Saved model to /Users/rishabh/Desktop/ProjectZomato/trainNER\n",
      "86\n"
     ]
    },
    {
     "name": "stderr",
     "output_type": "stream",
     "text": [
      "100%|██████████| 245/245 [01:10<00:00,  3.48it/s]\n",
      "  0%|          | 0/245 [00:00<?, ?it/s]"
     ]
    },
    {
     "name": "stdout",
     "output_type": "stream",
     "text": [
      "{'ner': 19.742744849123046}\n",
      "Saved model to /Users/rishabh/Desktop/ProjectZomato/trainNER\n",
      "87\n"
     ]
    },
    {
     "name": "stderr",
     "output_type": "stream",
     "text": [
      "100%|██████████| 245/245 [01:15<00:00,  3.24it/s]\n",
      "  0%|          | 0/245 [00:00<?, ?it/s]"
     ]
    },
    {
     "name": "stdout",
     "output_type": "stream",
     "text": [
      "{'ner': 39.978200340464234}\n",
      "Saved model to /Users/rishabh/Desktop/ProjectZomato/trainNER\n",
      "88\n"
     ]
    },
    {
     "name": "stderr",
     "output_type": "stream",
     "text": [
      "100%|██████████| 245/245 [01:11<00:00,  3.44it/s]\n",
      "  0%|          | 0/245 [00:00<?, ?it/s]"
     ]
    },
    {
     "name": "stdout",
     "output_type": "stream",
     "text": [
      "{'ner': 12.495589762953738}\n",
      "Saved model to /Users/rishabh/Desktop/ProjectZomato/trainNER\n",
      "89\n"
     ]
    },
    {
     "name": "stderr",
     "output_type": "stream",
     "text": [
      "100%|██████████| 245/245 [01:17<00:00,  3.17it/s]\n",
      "  0%|          | 0/245 [00:00<?, ?it/s]"
     ]
    },
    {
     "name": "stdout",
     "output_type": "stream",
     "text": [
      "{'ner': 18.413361531996433}\n",
      "Saved model to /Users/rishabh/Desktop/ProjectZomato/trainNER\n",
      "90\n"
     ]
    },
    {
     "name": "stderr",
     "output_type": "stream",
     "text": [
      "100%|██████████| 245/245 [01:22<00:00,  2.98it/s]\n",
      "  0%|          | 0/245 [00:00<?, ?it/s]"
     ]
    },
    {
     "name": "stdout",
     "output_type": "stream",
     "text": [
      "{'ner': 30.65964632246064}\n",
      "Saved model to /Users/rishabh/Desktop/ProjectZomato/trainNER\n",
      "91\n"
     ]
    },
    {
     "name": "stderr",
     "output_type": "stream",
     "text": [
      "100%|██████████| 245/245 [01:13<00:00,  3.34it/s]\n",
      "  0%|          | 0/245 [00:00<?, ?it/s]"
     ]
    },
    {
     "name": "stdout",
     "output_type": "stream",
     "text": [
      "{'ner': 26.040537965836794}\n",
      "Saved model to /Users/rishabh/Desktop/ProjectZomato/trainNER\n",
      "92\n"
     ]
    },
    {
     "name": "stderr",
     "output_type": "stream",
     "text": [
      "100%|██████████| 245/245 [01:12<00:00,  3.40it/s]\n",
      "  0%|          | 0/245 [00:00<?, ?it/s]"
     ]
    },
    {
     "name": "stdout",
     "output_type": "stream",
     "text": [
      "{'ner': 9.663942622750726}\n",
      "Saved model to /Users/rishabh/Desktop/ProjectZomato/trainNER\n",
      "93\n"
     ]
    },
    {
     "name": "stderr",
     "output_type": "stream",
     "text": [
      "100%|██████████| 245/245 [01:11<00:00,  3.43it/s]\n",
      "  0%|          | 0/245 [00:00<?, ?it/s]"
     ]
    },
    {
     "name": "stdout",
     "output_type": "stream",
     "text": [
      "{'ner': 24.022594165286765}\n",
      "Saved model to /Users/rishabh/Desktop/ProjectZomato/trainNER\n",
      "94\n"
     ]
    },
    {
     "name": "stderr",
     "output_type": "stream",
     "text": [
      "100%|██████████| 245/245 [01:08<00:00,  3.56it/s]\n",
      "  0%|          | 0/245 [00:00<?, ?it/s]"
     ]
    },
    {
     "name": "stdout",
     "output_type": "stream",
     "text": [
      "{'ner': 28.9309704211467}\n",
      "Saved model to /Users/rishabh/Desktop/ProjectZomato/trainNER\n",
      "95\n"
     ]
    },
    {
     "name": "stderr",
     "output_type": "stream",
     "text": [
      "100%|██████████| 245/245 [01:08<00:00,  3.60it/s]\n",
      "  0%|          | 0/245 [00:00<?, ?it/s]"
     ]
    },
    {
     "name": "stdout",
     "output_type": "stream",
     "text": [
      "{'ner': 25.641669317577286}\n",
      "Saved model to /Users/rishabh/Desktop/ProjectZomato/trainNER\n",
      "96\n"
     ]
    },
    {
     "name": "stderr",
     "output_type": "stream",
     "text": [
      "100%|██████████| 245/245 [01:07<00:00,  3.61it/s]\n",
      "  0%|          | 0/245 [00:00<?, ?it/s]"
     ]
    },
    {
     "name": "stdout",
     "output_type": "stream",
     "text": [
      "{'ner': 15.517493143371455}\n",
      "Saved model to /Users/rishabh/Desktop/ProjectZomato/trainNER\n",
      "97\n"
     ]
    },
    {
     "name": "stderr",
     "output_type": "stream",
     "text": [
      "100%|██████████| 245/245 [01:10<00:00,  3.49it/s]\n",
      "  0%|          | 0/245 [00:00<?, ?it/s]"
     ]
    },
    {
     "name": "stdout",
     "output_type": "stream",
     "text": [
      "{'ner': 25.161231756501675}\n",
      "Saved model to /Users/rishabh/Desktop/ProjectZomato/trainNER\n",
      "98\n"
     ]
    },
    {
     "name": "stderr",
     "output_type": "stream",
     "text": [
      "100%|██████████| 245/245 [01:07<00:00,  3.65it/s]\n",
      "  0%|          | 0/245 [00:00<?, ?it/s]"
     ]
    },
    {
     "name": "stdout",
     "output_type": "stream",
     "text": [
      "{'ner': 15.362498195109108}\n",
      "Saved model to /Users/rishabh/Desktop/ProjectZomato/trainNER\n",
      "99\n"
     ]
    },
    {
     "name": "stderr",
     "output_type": "stream",
     "text": [
      "100%|██████████| 245/245 [01:07<00:00,  3.64it/s]\n"
     ]
    },
    {
     "name": "stdout",
     "output_type": "stream",
     "text": [
      "{'ner': 17.557805938945133}\n",
      "Saved model to /Users/rishabh/Desktop/ProjectZomato/trainNER\n",
      "Saved model to /Users/rishabh/Desktop/ProjectZomato/trainNER\n"
     ]
    }
   ],
   "source": [
    "generate_food_model('/Users/rishabh/Desktop/ProjectZomato/foodcsvtrain.xlsx','/Users/rishabh/Desktop/ProjectZomato/trainNER')"
   ]
  },
  {
   "cell_type": "code",
   "execution_count": 5,
   "metadata": {},
   "outputs": [
    {
     "data": {
      "text/plain": [
       "0.8337236533957846"
      ]
     },
     "execution_count": 5,
     "metadata": {},
     "output_type": "execute_result"
    }
   ],
   "source": [
    "get_precision('/Users/rishabh/Desktop/ProjectZomato/trainNER','/Users/rishabh/Desktop/ProjectZomato/foodcsvtest.xlsx')"
   ]
  },
  {
   "cell_type": "markdown",
   "metadata": {},
   "source": [
    "A precision of 83% on validation is decent enough I would say, spacy did a fantastic job with just 245 samples for training. Although keep in mind These samples should be increased to make model better and more robust. It might have been a sampling skew from my manual data collection that I only picked training examples of certain kind. And obviously 245 examples cannot be close to representing all kinds of reviews on zomato. But nevertheless it's still better. I will be using model trained on entire data and not just train and validation data."
   ]
  }
 ],
 "metadata": {
  "kernelspec": {
   "display_name": "Python 3",
   "language": "python",
   "name": "python3"
  },
  "language_info": {
   "codemirror_mode": {
    "name": "ipython",
    "version": 3
   },
   "file_extension": ".py",
   "mimetype": "text/x-python",
   "name": "python",
   "nbconvert_exporter": "python",
   "pygments_lexer": "ipython3",
   "version": "3.6.3"
  }
 },
 "nbformat": 4,
 "nbformat_minor": 2
}
